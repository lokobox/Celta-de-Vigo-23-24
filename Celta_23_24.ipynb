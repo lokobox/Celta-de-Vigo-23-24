{
 "cells": [
  {
   "cell_type": "code",
   "execution_count": 1,
   "id": "cf977d75-92d7-42f9-92f0-69dbde5be8f2",
   "metadata": {},
   "outputs": [],
   "source": [
    "import pandas as pd\n",
    "import numpy as np\n",
    "import matplotlib.pyplot as plt\n",
    "import matplotlib as mpl\n",
    "import seaborn as sns\n",
    "import plotly.graph_objects as go\n",
    "import plotly.express as px\n",
    "from plotly.subplots import make_subplots"
   ]
  },
  {
   "cell_type": "code",
   "execution_count": 2,
   "id": "217cb8f8-ed79-44d4-a9ba-ad8617ba4568",
   "metadata": {},
   "outputs": [
    {
     "data": {
      "text/html": [
       "<div>\n",
       "<style scoped>\n",
       "    .dataframe tbody tr th:only-of-type {\n",
       "        vertical-align: middle;\n",
       "    }\n",
       "\n",
       "    .dataframe tbody tr th {\n",
       "        vertical-align: top;\n",
       "    }\n",
       "\n",
       "    .dataframe thead th {\n",
       "        text-align: right;\n",
       "    }\n",
       "</style>\n",
       "<table border=\"1\" class=\"dataframe\">\n",
       "  <thead>\n",
       "    <tr style=\"text-align: right;\">\n",
       "      <th></th>\n",
       "      <th>Round</th>\n",
       "      <th>Date</th>\n",
       "      <th>Home Team</th>\n",
       "      <th>Away Team</th>\n",
       "      <th>Home Score</th>\n",
       "      <th>Away Score</th>\n",
       "      <th>Total Goals</th>\n",
       "      <th>Result</th>\n",
       "    </tr>\n",
       "  </thead>\n",
       "  <tbody>\n",
       "    <tr>\n",
       "      <th>0</th>\n",
       "      <td>33</td>\n",
       "      <td>2024-04-29 00:00:00</td>\n",
       "      <td>Barcelona</td>\n",
       "      <td>Valencia</td>\n",
       "      <td>4</td>\n",
       "      <td>2</td>\n",
       "      <td>6</td>\n",
       "      <td>Home</td>\n",
       "    </tr>\n",
       "    <tr>\n",
       "      <th>1</th>\n",
       "      <td>33</td>\n",
       "      <td>2024-04-28 00:00:00</td>\n",
       "      <td>Betis</td>\n",
       "      <td>Sevilla</td>\n",
       "      <td>1</td>\n",
       "      <td>1</td>\n",
       "      <td>2</td>\n",
       "      <td>Tie</td>\n",
       "    </tr>\n",
       "    <tr>\n",
       "      <th>2</th>\n",
       "      <td>33</td>\n",
       "      <td>2024-04-28 00:00:00</td>\n",
       "      <td>Villarreal</td>\n",
       "      <td>Rayo Vallecano</td>\n",
       "      <td>3</td>\n",
       "      <td>0</td>\n",
       "      <td>3</td>\n",
       "      <td>Home</td>\n",
       "    </tr>\n",
       "    <tr>\n",
       "      <th>3</th>\n",
       "      <td>33</td>\n",
       "      <td>2024-04-28 00:00:00</td>\n",
       "      <td>Granada CF</td>\n",
       "      <td>Osasuna</td>\n",
       "      <td>3</td>\n",
       "      <td>0</td>\n",
       "      <td>3</td>\n",
       "      <td>Home</td>\n",
       "    </tr>\n",
       "    <tr>\n",
       "      <th>4</th>\n",
       "      <td>33</td>\n",
       "      <td>2024-04-28 00:00:00</td>\n",
       "      <td>Cadiz CF</td>\n",
       "      <td>Mallorca</td>\n",
       "      <td>1</td>\n",
       "      <td>1</td>\n",
       "      <td>2</td>\n",
       "      <td>Tie</td>\n",
       "    </tr>\n",
       "    <tr>\n",
       "      <th>5</th>\n",
       "      <td>33</td>\n",
       "      <td>2024-04-27 00:00:00</td>\n",
       "      <td>Atl. Madrid</td>\n",
       "      <td>Ath Bilbao</td>\n",
       "      <td>3</td>\n",
       "      <td>1</td>\n",
       "      <td>4</td>\n",
       "      <td>Home</td>\n",
       "    </tr>\n",
       "    <tr>\n",
       "      <th>6</th>\n",
       "      <td>33</td>\n",
       "      <td>2024-04-27 00:00:00</td>\n",
       "      <td>Alaves</td>\n",
       "      <td>Celta Vigo</td>\n",
       "      <td>3</td>\n",
       "      <td>0</td>\n",
       "      <td>3</td>\n",
       "      <td>Home</td>\n",
       "    </tr>\n",
       "    <tr>\n",
       "      <th>7</th>\n",
       "      <td>33</td>\n",
       "      <td>2024-04-27 00:00:00</td>\n",
       "      <td>Almeria</td>\n",
       "      <td>Getafe</td>\n",
       "      <td>1</td>\n",
       "      <td>3</td>\n",
       "      <td>4</td>\n",
       "      <td>Away</td>\n",
       "    </tr>\n",
       "    <tr>\n",
       "      <th>8</th>\n",
       "      <td>33</td>\n",
       "      <td>2024-04-27 00:00:00</td>\n",
       "      <td>Las Palmas</td>\n",
       "      <td>Girona</td>\n",
       "      <td>0</td>\n",
       "      <td>2</td>\n",
       "      <td>2</td>\n",
       "      <td>Away</td>\n",
       "    </tr>\n",
       "    <tr>\n",
       "      <th>9</th>\n",
       "      <td>33</td>\n",
       "      <td>2024-04-26 00:00:00</td>\n",
       "      <td>Real Sociedad</td>\n",
       "      <td>Real Madrid</td>\n",
       "      <td>0</td>\n",
       "      <td>1</td>\n",
       "      <td>1</td>\n",
       "      <td>Away</td>\n",
       "    </tr>\n",
       "  </tbody>\n",
       "</table>\n",
       "</div>"
      ],
      "text/plain": [
       "   Round                 Date      Home Team       Away Team  Home Score  \\\n",
       "0     33  2024-04-29 00:00:00      Barcelona        Valencia           4   \n",
       "1     33  2024-04-28 00:00:00          Betis         Sevilla           1   \n",
       "2     33  2024-04-28 00:00:00     Villarreal  Rayo Vallecano           3   \n",
       "3     33  2024-04-28 00:00:00     Granada CF         Osasuna           3   \n",
       "4     33  2024-04-28 00:00:00       Cadiz CF        Mallorca           1   \n",
       "5     33  2024-04-27 00:00:00    Atl. Madrid      Ath Bilbao           3   \n",
       "6     33  2024-04-27 00:00:00         Alaves      Celta Vigo           3   \n",
       "7     33  2024-04-27 00:00:00        Almeria          Getafe           1   \n",
       "8     33  2024-04-27 00:00:00     Las Palmas          Girona           0   \n",
       "9     33  2024-04-26 00:00:00  Real Sociedad     Real Madrid           0   \n",
       "\n",
       "   Away Score  Total Goals Result  \n",
       "0           2            6   Home  \n",
       "1           1            2    Tie  \n",
       "2           0            3   Home  \n",
       "3           0            3   Home  \n",
       "4           1            2    Tie  \n",
       "5           1            4   Home  \n",
       "6           0            3   Home  \n",
       "7           3            4   Away  \n",
       "8           2            2   Away  \n",
       "9           1            1   Away  "
      ]
     },
     "execution_count": 2,
     "metadata": {},
     "output_type": "execute_result"
    }
   ],
   "source": [
    "df = pd.read_csv('LigaEspanola2023-2024-Resultados.csv')\n",
    "df[:10]"
   ]
  },
  {
   "cell_type": "code",
   "execution_count": 3,
   "id": "c9248dc1-a88d-4fa2-9fe6-0db6e6e0e56e",
   "metadata": {},
   "outputs": [
    {
     "data": {
      "text/html": [
       "<div>\n",
       "<style scoped>\n",
       "    .dataframe tbody tr th:only-of-type {\n",
       "        vertical-align: middle;\n",
       "    }\n",
       "\n",
       "    .dataframe tbody tr th {\n",
       "        vertical-align: top;\n",
       "    }\n",
       "\n",
       "    .dataframe thead th {\n",
       "        text-align: right;\n",
       "    }\n",
       "</style>\n",
       "<table border=\"1\" class=\"dataframe\">\n",
       "  <thead>\n",
       "    <tr style=\"text-align: right;\">\n",
       "      <th></th>\n",
       "      <th>Round</th>\n",
       "      <th>Date</th>\n",
       "      <th>Home Team</th>\n",
       "      <th>Away Team</th>\n",
       "      <th>Home Score</th>\n",
       "      <th>Away Score</th>\n",
       "      <th>Total Goals</th>\n",
       "      <th>Result</th>\n",
       "    </tr>\n",
       "  </thead>\n",
       "  <tbody>\n",
       "    <tr>\n",
       "      <th>0</th>\n",
       "      <td>33</td>\n",
       "      <td>2024-04-29 00:00:00</td>\n",
       "      <td>Barcelona</td>\n",
       "      <td>Valencia</td>\n",
       "      <td>4</td>\n",
       "      <td>2</td>\n",
       "      <td>6</td>\n",
       "      <td>Home</td>\n",
       "    </tr>\n",
       "    <tr>\n",
       "      <th>1</th>\n",
       "      <td>33</td>\n",
       "      <td>2024-04-28 00:00:00</td>\n",
       "      <td>Betis</td>\n",
       "      <td>Sevilla</td>\n",
       "      <td>1</td>\n",
       "      <td>1</td>\n",
       "      <td>2</td>\n",
       "      <td>Tie</td>\n",
       "    </tr>\n",
       "    <tr>\n",
       "      <th>2</th>\n",
       "      <td>33</td>\n",
       "      <td>2024-04-28 00:00:00</td>\n",
       "      <td>Villarreal</td>\n",
       "      <td>Rayo Vallecano</td>\n",
       "      <td>3</td>\n",
       "      <td>0</td>\n",
       "      <td>3</td>\n",
       "      <td>Home</td>\n",
       "    </tr>\n",
       "    <tr>\n",
       "      <th>3</th>\n",
       "      <td>33</td>\n",
       "      <td>2024-04-28 00:00:00</td>\n",
       "      <td>Granada CF</td>\n",
       "      <td>Osasuna</td>\n",
       "      <td>3</td>\n",
       "      <td>0</td>\n",
       "      <td>3</td>\n",
       "      <td>Home</td>\n",
       "    </tr>\n",
       "    <tr>\n",
       "      <th>4</th>\n",
       "      <td>33</td>\n",
       "      <td>2024-04-28 00:00:00</td>\n",
       "      <td>Cadiz CF</td>\n",
       "      <td>Mallorca</td>\n",
       "      <td>1</td>\n",
       "      <td>1</td>\n",
       "      <td>2</td>\n",
       "      <td>Tie</td>\n",
       "    </tr>\n",
       "    <tr>\n",
       "      <th>...</th>\n",
       "      <td>...</td>\n",
       "      <td>...</td>\n",
       "      <td>...</td>\n",
       "      <td>...</td>\n",
       "      <td>...</td>\n",
       "      <td>...</td>\n",
       "      <td>...</td>\n",
       "      <td>...</td>\n",
       "    </tr>\n",
       "    <tr>\n",
       "      <th>330</th>\n",
       "      <td>34</td>\n",
       "      <td>2024-05-05 00:00:00</td>\n",
       "      <td>Celta Vigo</td>\n",
       "      <td>Villarreal</td>\n",
       "      <td>3</td>\n",
       "      <td>2</td>\n",
       "      <td>5</td>\n",
       "      <td>Home</td>\n",
       "    </tr>\n",
       "    <tr>\n",
       "      <th>331</th>\n",
       "      <td>35</td>\n",
       "      <td>2024-05-12 00:00:00</td>\n",
       "      <td>Atl. Madrid</td>\n",
       "      <td>Celta Vigo</td>\n",
       "      <td>1</td>\n",
       "      <td>0</td>\n",
       "      <td>1</td>\n",
       "      <td>Home</td>\n",
       "    </tr>\n",
       "    <tr>\n",
       "      <th>332</th>\n",
       "      <td>36</td>\n",
       "      <td>2024-05-15 00:00:00</td>\n",
       "      <td>Celta Vigo</td>\n",
       "      <td>Ath Bilbao</td>\n",
       "      <td>2</td>\n",
       "      <td>1</td>\n",
       "      <td>3</td>\n",
       "      <td>Home</td>\n",
       "    </tr>\n",
       "    <tr>\n",
       "      <th>333</th>\n",
       "      <td>37</td>\n",
       "      <td>2024-05-19 00:00:00</td>\n",
       "      <td>Granada CF</td>\n",
       "      <td>Celta Vigo</td>\n",
       "      <td>1</td>\n",
       "      <td>2</td>\n",
       "      <td>3</td>\n",
       "      <td>Away</td>\n",
       "    </tr>\n",
       "    <tr>\n",
       "      <th>334</th>\n",
       "      <td>38</td>\n",
       "      <td>2024-05-15 00:00:00</td>\n",
       "      <td>Celta Vigo</td>\n",
       "      <td>Valencia</td>\n",
       "      <td>2</td>\n",
       "      <td>2</td>\n",
       "      <td>4</td>\n",
       "      <td>Tie</td>\n",
       "    </tr>\n",
       "  </tbody>\n",
       "</table>\n",
       "<p>335 rows × 8 columns</p>\n",
       "</div>"
      ],
      "text/plain": [
       "     Round                 Date    Home Team       Away Team Home Score  \\\n",
       "0       33  2024-04-29 00:00:00    Barcelona        Valencia          4   \n",
       "1       33  2024-04-28 00:00:00        Betis         Sevilla          1   \n",
       "2       33  2024-04-28 00:00:00   Villarreal  Rayo Vallecano          3   \n",
       "3       33  2024-04-28 00:00:00   Granada CF         Osasuna          3   \n",
       "4       33  2024-04-28 00:00:00     Cadiz CF        Mallorca          1   \n",
       "..     ...                  ...          ...             ...        ...   \n",
       "330     34  2024-05-05 00:00:00   Celta Vigo      Villarreal          3   \n",
       "331     35  2024-05-12 00:00:00  Atl. Madrid      Celta Vigo          1   \n",
       "332     36  2024-05-15 00:00:00   Celta Vigo      Ath Bilbao          2   \n",
       "333     37  2024-05-19 00:00:00   Granada CF      Celta Vigo          1   \n",
       "334     38  2024-05-15 00:00:00   Celta Vigo        Valencia          2   \n",
       "\n",
       "    Away Score Total Goals Result  \n",
       "0            2           6   Home  \n",
       "1            1           2    Tie  \n",
       "2            0           3   Home  \n",
       "3            0           3   Home  \n",
       "4            1           2    Tie  \n",
       "..         ...         ...    ...  \n",
       "330          2           5   Home  \n",
       "331          0           1   Home  \n",
       "332          1           3   Home  \n",
       "333          2           3   Away  \n",
       "334          2           4    Tie  \n",
       "\n",
       "[335 rows x 8 columns]"
      ]
     },
     "execution_count": 3,
     "metadata": {},
     "output_type": "execute_result"
    }
   ],
   "source": [
    "# Jornadas de Celta que faltan en el csv.\n",
    "\n",
    "jornadas_faltantes = pd.DataFrame([\n",
    "    {'Round':34, 'Date':\"2024-05-05 00:00:00\", 'Home Team':\"Celta Vigo\", 'Away Team':\"Villarreal\", 'Home Score':\"3\", 'Away Score':\"2\", 'Total Goals':\"5\", 'Result':\"Home\"},\n",
    "    {'Round':35, 'Date':\"2024-05-12 00:00:00\", 'Home Team':\"Atl. Madrid\", 'Away Team':\"Celta Vigo\", 'Home Score':\"1\", 'Away Score':\"0\", 'Total Goals':\"1\", 'Result':\"Home\"},\n",
    "    {'Round':36, 'Date':\"2024-05-15 00:00:00\", 'Home Team':\"Celta Vigo\", 'Away Team':\"Ath Bilbao\", 'Home Score':\"2\", 'Away Score':\"1\", 'Total Goals':\"3\", 'Result':\"Home\"},\n",
    "    {'Round':37, 'Date':\"2024-05-19 00:00:00\", 'Home Team':\"Granada CF\", 'Away Team':\"Celta Vigo\", 'Home Score':\"1\", 'Away Score':\"2\", 'Total Goals':\"3\", 'Result':\"Away\"},\n",
    "    {'Round':38, 'Date':\"2024-05-15 00:00:00\", 'Home Team':\"Celta Vigo\", 'Away Team':\"Valencia\", 'Home Score':\"2\", 'Away Score':\"2\", 'Total Goals':\"4\", 'Result':\"Tie\"},\n",
    "    \n",
    "])\n",
    "df = pd.concat([df, jornadas_faltantes], ignore_index=True)\n",
    "df"
   ]
  },
  {
   "cell_type": "code",
   "execution_count": 4,
   "id": "45624fa9-e90f-443f-8943-795d66cbdcf9",
   "metadata": {},
   "outputs": [],
   "source": [
    "df.dropna(inplace=True)"
   ]
  },
  {
   "cell_type": "code",
   "execution_count": 5,
   "id": "02bd161c-2d29-40ab-8dd4-3bc0ca3d6898",
   "metadata": {},
   "outputs": [
    {
     "data": {
      "text/plain": [
       "Round          335\n",
       "Date           335\n",
       "Home Team      335\n",
       "Away Team      335\n",
       "Home Score     335\n",
       "Away Score     335\n",
       "Total Goals    335\n",
       "Result         335\n",
       "dtype: int64"
      ]
     },
     "execution_count": 5,
     "metadata": {},
     "output_type": "execute_result"
    }
   ],
   "source": [
    "# sumatorio de datos no nulos\n",
    "total = df.notnull().sum().sort_values(ascending= False)\n",
    "total"
   ]
  },
  {
   "cell_type": "code",
   "execution_count": 6,
   "id": "c8b78e00-4a87-4124-8c0b-8094443762be",
   "metadata": {},
   "outputs": [
    {
     "data": {
      "text/plain": [
       "Round          0.0\n",
       "Date           0.0\n",
       "Home Team      0.0\n",
       "Away Team      0.0\n",
       "Home Score     0.0\n",
       "Away Score     0.0\n",
       "Total Goals    0.0\n",
       "Result         0.0\n",
       "dtype: float64"
      ]
     },
     "execution_count": 6,
     "metadata": {},
     "output_type": "execute_result"
    }
   ],
   "source": [
    "# porcentaje de valores nulos:\n",
    "percentage = (df.isnull().sum() / df.isnull().count()).sort_values(ascending= True)\n",
    "percentage"
   ]
  },
  {
   "cell_type": "code",
   "execution_count": 7,
   "id": "6fa61861-9556-4bbe-a6d3-79bf66d4b8c2",
   "metadata": {},
   "outputs": [
    {
     "data": {
      "text/html": [
       "<div>\n",
       "<style scoped>\n",
       "    .dataframe tbody tr th:only-of-type {\n",
       "        vertical-align: middle;\n",
       "    }\n",
       "\n",
       "    .dataframe tbody tr th {\n",
       "        vertical-align: top;\n",
       "    }\n",
       "\n",
       "    .dataframe thead th {\n",
       "        text-align: right;\n",
       "    }\n",
       "</style>\n",
       "<table border=\"1\" class=\"dataframe\">\n",
       "  <thead>\n",
       "    <tr style=\"text-align: right;\">\n",
       "      <th></th>\n",
       "      <th>Total Dates</th>\n",
       "      <th>Percentage missing dates</th>\n",
       "    </tr>\n",
       "  </thead>\n",
       "  <tbody>\n",
       "    <tr>\n",
       "      <th>Round</th>\n",
       "      <td>335</td>\n",
       "      <td>0.0</td>\n",
       "    </tr>\n",
       "    <tr>\n",
       "      <th>Date</th>\n",
       "      <td>335</td>\n",
       "      <td>0.0</td>\n",
       "    </tr>\n",
       "    <tr>\n",
       "      <th>Home Team</th>\n",
       "      <td>335</td>\n",
       "      <td>0.0</td>\n",
       "    </tr>\n",
       "    <tr>\n",
       "      <th>Away Team</th>\n",
       "      <td>335</td>\n",
       "      <td>0.0</td>\n",
       "    </tr>\n",
       "    <tr>\n",
       "      <th>Home Score</th>\n",
       "      <td>335</td>\n",
       "      <td>0.0</td>\n",
       "    </tr>\n",
       "    <tr>\n",
       "      <th>Away Score</th>\n",
       "      <td>335</td>\n",
       "      <td>0.0</td>\n",
       "    </tr>\n",
       "    <tr>\n",
       "      <th>Total Goals</th>\n",
       "      <td>335</td>\n",
       "      <td>0.0</td>\n",
       "    </tr>\n",
       "    <tr>\n",
       "      <th>Result</th>\n",
       "      <td>335</td>\n",
       "      <td>0.0</td>\n",
       "    </tr>\n",
       "  </tbody>\n",
       "</table>\n",
       "</div>"
      ],
      "text/plain": [
       "             Total Dates  Percentage missing dates\n",
       "Round                335                       0.0\n",
       "Date                 335                       0.0\n",
       "Home Team            335                       0.0\n",
       "Away Team            335                       0.0\n",
       "Home Score           335                       0.0\n",
       "Away Score           335                       0.0\n",
       "Total Goals          335                       0.0\n",
       "Result               335                       0.0"
      ]
     },
     "execution_count": 7,
     "metadata": {},
     "output_type": "execute_result"
    }
   ],
   "source": [
    "# Construcción Df de las series totales y sus porcentajes de valores nulos:\n",
    "\n",
    "missing_dates=  pd.concat([total, percentage], axis= 1, keys= ['Total Dates', 'Percentage missing dates'])\n",
    "missing_dates"
   ]
  },
  {
   "cell_type": "code",
   "execution_count": 8,
   "id": "e6c92e8e-0448-4163-b542-5802de7d7f4b",
   "metadata": {},
   "outputs": [
    {
     "data": {
      "text/html": [
       "<div>\n",
       "<style scoped>\n",
       "    .dataframe tbody tr th:only-of-type {\n",
       "        vertical-align: middle;\n",
       "    }\n",
       "\n",
       "    .dataframe tbody tr th {\n",
       "        vertical-align: top;\n",
       "    }\n",
       "\n",
       "    .dataframe thead th {\n",
       "        text-align: right;\n",
       "    }\n",
       "</style>\n",
       "<table border=\"1\" class=\"dataframe\">\n",
       "  <thead>\n",
       "    <tr style=\"text-align: right;\">\n",
       "      <th></th>\n",
       "      <th>Round</th>\n",
       "    </tr>\n",
       "  </thead>\n",
       "  <tbody>\n",
       "    <tr>\n",
       "      <th>count</th>\n",
       "      <td>335.000000</td>\n",
       "    </tr>\n",
       "    <tr>\n",
       "      <th>mean</th>\n",
       "      <td>17.283582</td>\n",
       "    </tr>\n",
       "    <tr>\n",
       "      <th>std</th>\n",
       "      <td>9.743424</td>\n",
       "    </tr>\n",
       "    <tr>\n",
       "      <th>min</th>\n",
       "      <td>1.000000</td>\n",
       "    </tr>\n",
       "    <tr>\n",
       "      <th>25%</th>\n",
       "      <td>9.000000</td>\n",
       "    </tr>\n",
       "    <tr>\n",
       "      <th>50%</th>\n",
       "      <td>17.000000</td>\n",
       "    </tr>\n",
       "    <tr>\n",
       "      <th>75%</th>\n",
       "      <td>26.000000</td>\n",
       "    </tr>\n",
       "    <tr>\n",
       "      <th>max</th>\n",
       "      <td>38.000000</td>\n",
       "    </tr>\n",
       "  </tbody>\n",
       "</table>\n",
       "</div>"
      ],
      "text/plain": [
       "            Round\n",
       "count  335.000000\n",
       "mean    17.283582\n",
       "std      9.743424\n",
       "min      1.000000\n",
       "25%      9.000000\n",
       "50%     17.000000\n",
       "75%     26.000000\n",
       "max     38.000000"
      ]
     },
     "execution_count": 8,
     "metadata": {},
     "output_type": "execute_result"
    }
   ],
   "source": [
    "# Estadisticas descriptivas:\n",
    "\n",
    "df.describe()"
   ]
  },
  {
   "cell_type": "code",
   "execution_count": 9,
   "id": "3966d60b-63a0-4cfc-bc99-c2765f91ac9e",
   "metadata": {},
   "outputs": [
    {
     "data": {
      "text/plain": [
       "(335, 8)"
      ]
     },
     "execution_count": 9,
     "metadata": {},
     "output_type": "execute_result"
    }
   ],
   "source": [
    "# dimensiones del DF:\n",
    "df.shape"
   ]
  },
  {
   "cell_type": "code",
   "execution_count": 10,
   "id": "66575835-b94c-453a-851c-f5e44fdfff02",
   "metadata": {},
   "outputs": [
    {
     "data": {
      "text/plain": [
       "<bound method DataFrame.info of      Round                 Date    Home Team       Away Team Home Score  \\\n",
       "0       33  2024-04-29 00:00:00    Barcelona        Valencia          4   \n",
       "1       33  2024-04-28 00:00:00        Betis         Sevilla          1   \n",
       "2       33  2024-04-28 00:00:00   Villarreal  Rayo Vallecano          3   \n",
       "3       33  2024-04-28 00:00:00   Granada CF         Osasuna          3   \n",
       "4       33  2024-04-28 00:00:00     Cadiz CF        Mallorca          1   \n",
       "..     ...                  ...          ...             ...        ...   \n",
       "330     34  2024-05-05 00:00:00   Celta Vigo      Villarreal          3   \n",
       "331     35  2024-05-12 00:00:00  Atl. Madrid      Celta Vigo          1   \n",
       "332     36  2024-05-15 00:00:00   Celta Vigo      Ath Bilbao          2   \n",
       "333     37  2024-05-19 00:00:00   Granada CF      Celta Vigo          1   \n",
       "334     38  2024-05-15 00:00:00   Celta Vigo        Valencia          2   \n",
       "\n",
       "    Away Score Total Goals Result  \n",
       "0            2           6   Home  \n",
       "1            1           2    Tie  \n",
       "2            0           3   Home  \n",
       "3            0           3   Home  \n",
       "4            1           2    Tie  \n",
       "..         ...         ...    ...  \n",
       "330          2           5   Home  \n",
       "331          0           1   Home  \n",
       "332          1           3   Home  \n",
       "333          2           3   Away  \n",
       "334          2           4    Tie  \n",
       "\n",
       "[335 rows x 8 columns]>"
      ]
     },
     "execution_count": 10,
     "metadata": {},
     "output_type": "execute_result"
    }
   ],
   "source": [
    "df.info"
   ]
  },
  {
   "cell_type": "code",
   "execution_count": 11,
   "id": "c3403d07-7707-46ec-aeee-0728136ee889",
   "metadata": {},
   "outputs": [
    {
     "data": {
      "text/plain": [
       "Index(['Round', 'Date', 'Home Team', 'Away Team', 'Home Score', 'Away Score',\n",
       "       'Total Goals', 'Result'],\n",
       "      dtype='object')"
      ]
     },
     "execution_count": 11,
     "metadata": {},
     "output_type": "execute_result"
    }
   ],
   "source": [
    "# número de columnas de df:\n",
    "df.columns"
   ]
  },
  {
   "cell_type": "code",
   "execution_count": 12,
   "id": "c42fc285-c31e-4012-9477-5d9b495b1350",
   "metadata": {},
   "outputs": [],
   "source": [
    "# Analisis de la temporada del Celta de Vigo y del cambio de entrenador.\n",
    "# Resultados Celta de Vigo en Balaidos:"
   ]
  },
  {
   "cell_type": "code",
   "execution_count": 13,
   "id": "f45d4502-3523-4a9a-8840-14eb95099784",
   "metadata": {},
   "outputs": [
    {
     "data": {
      "text/html": [
       "<div>\n",
       "<style scoped>\n",
       "    .dataframe tbody tr th:only-of-type {\n",
       "        vertical-align: middle;\n",
       "    }\n",
       "\n",
       "    .dataframe tbody tr th {\n",
       "        vertical-align: top;\n",
       "    }\n",
       "\n",
       "    .dataframe thead th {\n",
       "        text-align: right;\n",
       "    }\n",
       "</style>\n",
       "<table border=\"1\" class=\"dataframe\">\n",
       "  <thead>\n",
       "    <tr style=\"text-align: right;\">\n",
       "      <th></th>\n",
       "      <th>Round</th>\n",
       "      <th>Date</th>\n",
       "      <th>Home Team</th>\n",
       "      <th>Away Team</th>\n",
       "      <th>Home Score</th>\n",
       "      <th>Away Score</th>\n",
       "      <th>Total Goals</th>\n",
       "      <th>Result</th>\n",
       "    </tr>\n",
       "  </thead>\n",
       "  <tbody>\n",
       "    <tr>\n",
       "      <th>18</th>\n",
       "      <td>32</td>\n",
       "      <td>2024-04-20 00:00:00</td>\n",
       "      <td>Celta Vigo</td>\n",
       "      <td>Las Palmas</td>\n",
       "      <td>4</td>\n",
       "      <td>1</td>\n",
       "      <td>5</td>\n",
       "      <td>Home</td>\n",
       "    </tr>\n",
       "    <tr>\n",
       "      <th>70</th>\n",
       "      <td>27</td>\n",
       "      <td>2024-03-01 00:00:00</td>\n",
       "      <td>Celta Vigo</td>\n",
       "      <td>Almeria</td>\n",
       "      <td>1</td>\n",
       "      <td>0</td>\n",
       "      <td>1</td>\n",
       "      <td>Home</td>\n",
       "    </tr>\n",
       "    <tr>\n",
       "      <th>144</th>\n",
       "      <td>19</td>\n",
       "      <td>2024-01-03 00:00:00</td>\n",
       "      <td>Celta Vigo</td>\n",
       "      <td>Betis</td>\n",
       "      <td>2</td>\n",
       "      <td>1</td>\n",
       "      <td>3</td>\n",
       "      <td>Home</td>\n",
       "    </tr>\n",
       "    <tr>\n",
       "      <th>169</th>\n",
       "      <td>17</td>\n",
       "      <td>2023-12-16 00:00:00</td>\n",
       "      <td>Celta Vigo</td>\n",
       "      <td>Granada CF</td>\n",
       "      <td>1</td>\n",
       "      <td>0</td>\n",
       "      <td>1</td>\n",
       "      <td>Home</td>\n",
       "    </tr>\n",
       "    <tr>\n",
       "      <th>330</th>\n",
       "      <td>34</td>\n",
       "      <td>2024-05-05 00:00:00</td>\n",
       "      <td>Celta Vigo</td>\n",
       "      <td>Villarreal</td>\n",
       "      <td>3</td>\n",
       "      <td>2</td>\n",
       "      <td>5</td>\n",
       "      <td>Home</td>\n",
       "    </tr>\n",
       "    <tr>\n",
       "      <th>332</th>\n",
       "      <td>36</td>\n",
       "      <td>2024-05-15 00:00:00</td>\n",
       "      <td>Celta Vigo</td>\n",
       "      <td>Ath Bilbao</td>\n",
       "      <td>2</td>\n",
       "      <td>1</td>\n",
       "      <td>3</td>\n",
       "      <td>Home</td>\n",
       "    </tr>\n",
       "  </tbody>\n",
       "</table>\n",
       "</div>"
      ],
      "text/plain": [
       "     Round                 Date   Home Team   Away Team Home Score Away Score  \\\n",
       "18      32  2024-04-20 00:00:00  Celta Vigo  Las Palmas          4          1   \n",
       "70      27  2024-03-01 00:00:00  Celta Vigo     Almeria          1          0   \n",
       "144     19  2024-01-03 00:00:00  Celta Vigo       Betis          2          1   \n",
       "169     17  2023-12-16 00:00:00  Celta Vigo  Granada CF          1          0   \n",
       "330     34  2024-05-05 00:00:00  Celta Vigo  Villarreal          3          2   \n",
       "332     36  2024-05-15 00:00:00  Celta Vigo  Ath Bilbao          2          1   \n",
       "\n",
       "    Total Goals Result  \n",
       "18            5   Home  \n",
       "70            1   Home  \n",
       "144           3   Home  \n",
       "169           1   Home  \n",
       "330           5   Home  \n",
       "332           3   Home  "
      ]
     },
     "execution_count": 13,
     "metadata": {},
     "output_type": "execute_result"
    }
   ],
   "source": [
    "celta_home = df.loc[(df['Home Team']== \"Celta Vigo\") & (df.Result == 'Home')]\n",
    "celta_home"
   ]
  },
  {
   "cell_type": "code",
   "execution_count": 14,
   "id": "aead382b-2130-47d5-9273-5ad67f47be6f",
   "metadata": {},
   "outputs": [
    {
     "data": {
      "text/html": [
       "<div>\n",
       "<style scoped>\n",
       "    .dataframe tbody tr th:only-of-type {\n",
       "        vertical-align: middle;\n",
       "    }\n",
       "\n",
       "    .dataframe tbody tr th {\n",
       "        vertical-align: top;\n",
       "    }\n",
       "\n",
       "    .dataframe thead th {\n",
       "        text-align: right;\n",
       "    }\n",
       "</style>\n",
       "<table border=\"1\" class=\"dataframe\">\n",
       "  <thead>\n",
       "    <tr style=\"text-align: right;\">\n",
       "      <th></th>\n",
       "      <th>Round</th>\n",
       "      <th>Date</th>\n",
       "      <th>Home Team</th>\n",
       "      <th>Away Team</th>\n",
       "      <th>Home Score</th>\n",
       "      <th>Away Score</th>\n",
       "      <th>Total Goals</th>\n",
       "      <th>Result</th>\n",
       "    </tr>\n",
       "  </thead>\n",
       "  <tbody>\n",
       "    <tr>\n",
       "      <th>86</th>\n",
       "      <td>25</td>\n",
       "      <td>2024-02-17 00:00:00</td>\n",
       "      <td>Celta Vigo</td>\n",
       "      <td>Barcelona</td>\n",
       "      <td>1</td>\n",
       "      <td>2</td>\n",
       "      <td>3</td>\n",
       "      <td>Away</td>\n",
       "    </tr>\n",
       "    <tr>\n",
       "      <th>117</th>\n",
       "      <td>22</td>\n",
       "      <td>2024-01-28 00:00:00</td>\n",
       "      <td>Celta Vigo</td>\n",
       "      <td>Girona</td>\n",
       "      <td>0</td>\n",
       "      <td>1</td>\n",
       "      <td>1</td>\n",
       "      <td>Away</td>\n",
       "    </tr>\n",
       "    <tr>\n",
       "      <th>128</th>\n",
       "      <td>21</td>\n",
       "      <td>2024-01-20 00:00:00</td>\n",
       "      <td>Celta Vigo</td>\n",
       "      <td>Real Sociedad</td>\n",
       "      <td>0</td>\n",
       "      <td>1</td>\n",
       "      <td>1</td>\n",
       "      <td>Away</td>\n",
       "    </tr>\n",
       "    <tr>\n",
       "      <th>236</th>\n",
       "      <td>10</td>\n",
       "      <td>2023-10-21 00:00:00</td>\n",
       "      <td>Celta Vigo</td>\n",
       "      <td>Atl. Madrid</td>\n",
       "      <td>0</td>\n",
       "      <td>3</td>\n",
       "      <td>3</td>\n",
       "      <td>Away</td>\n",
       "    </tr>\n",
       "    <tr>\n",
       "      <th>287</th>\n",
       "      <td>5</td>\n",
       "      <td>2023-09-16 00:00:00</td>\n",
       "      <td>Celta Vigo</td>\n",
       "      <td>Mallorca</td>\n",
       "      <td>0</td>\n",
       "      <td>1</td>\n",
       "      <td>1</td>\n",
       "      <td>Away</td>\n",
       "    </tr>\n",
       "    <tr>\n",
       "      <th>308</th>\n",
       "      <td>3</td>\n",
       "      <td>2023-08-25 00:00:00</td>\n",
       "      <td>Celta Vigo</td>\n",
       "      <td>Real Madrid</td>\n",
       "      <td>0</td>\n",
       "      <td>1</td>\n",
       "      <td>1</td>\n",
       "      <td>Away</td>\n",
       "    </tr>\n",
       "    <tr>\n",
       "      <th>324</th>\n",
       "      <td>1</td>\n",
       "      <td>2023-08-13 00:00:00</td>\n",
       "      <td>Celta Vigo</td>\n",
       "      <td>Osasuna</td>\n",
       "      <td>0</td>\n",
       "      <td>2</td>\n",
       "      <td>2</td>\n",
       "      <td>Away</td>\n",
       "    </tr>\n",
       "  </tbody>\n",
       "</table>\n",
       "</div>"
      ],
      "text/plain": [
       "     Round                 Date   Home Team      Away Team Home Score  \\\n",
       "86      25  2024-02-17 00:00:00  Celta Vigo      Barcelona          1   \n",
       "117     22  2024-01-28 00:00:00  Celta Vigo         Girona          0   \n",
       "128     21  2024-01-20 00:00:00  Celta Vigo  Real Sociedad          0   \n",
       "236     10  2023-10-21 00:00:00  Celta Vigo    Atl. Madrid          0   \n",
       "287      5  2023-09-16 00:00:00  Celta Vigo       Mallorca          0   \n",
       "308      3  2023-08-25 00:00:00  Celta Vigo    Real Madrid          0   \n",
       "324      1  2023-08-13 00:00:00  Celta Vigo        Osasuna          0   \n",
       "\n",
       "    Away Score Total Goals Result  \n",
       "86           2           3   Away  \n",
       "117          1           1   Away  \n",
       "128          1           1   Away  \n",
       "236          3           3   Away  \n",
       "287          1           1   Away  \n",
       "308          1           1   Away  \n",
       "324          2           2   Away  "
      ]
     },
     "execution_count": 14,
     "metadata": {},
     "output_type": "execute_result"
    }
   ],
   "source": [
    "celta_home_away = df.loc[(df['Home Team']== \"Celta Vigo\") & (df.Result == 'Away')]\n",
    "celta_home_away"
   ]
  },
  {
   "cell_type": "code",
   "execution_count": 15,
   "id": "6c73ddf0-0577-4f01-a00c-9879245c4eff",
   "metadata": {},
   "outputs": [
    {
     "data": {
      "text/html": [
       "<div>\n",
       "<style scoped>\n",
       "    .dataframe tbody tr th:only-of-type {\n",
       "        vertical-align: middle;\n",
       "    }\n",
       "\n",
       "    .dataframe tbody tr th {\n",
       "        vertical-align: top;\n",
       "    }\n",
       "\n",
       "    .dataframe thead th {\n",
       "        text-align: right;\n",
       "    }\n",
       "</style>\n",
       "<table border=\"1\" class=\"dataframe\">\n",
       "  <thead>\n",
       "    <tr style=\"text-align: right;\">\n",
       "      <th></th>\n",
       "      <th>Round</th>\n",
       "      <th>Date</th>\n",
       "      <th>Home Team</th>\n",
       "      <th>Away Team</th>\n",
       "      <th>Home Score</th>\n",
       "      <th>Away Score</th>\n",
       "      <th>Total Goals</th>\n",
       "      <th>Result</th>\n",
       "    </tr>\n",
       "  </thead>\n",
       "  <tbody>\n",
       "    <tr>\n",
       "      <th>35</th>\n",
       "      <td>30</td>\n",
       "      <td>2024-03-31 00:00:00</td>\n",
       "      <td>Celta Vigo</td>\n",
       "      <td>Rayo Vallecano</td>\n",
       "      <td>0</td>\n",
       "      <td>0</td>\n",
       "      <td>0</td>\n",
       "      <td>Tie</td>\n",
       "    </tr>\n",
       "    <tr>\n",
       "      <th>181</th>\n",
       "      <td>15</td>\n",
       "      <td>2023-12-04 00:00:00</td>\n",
       "      <td>Celta Vigo</td>\n",
       "      <td>Cadiz CF</td>\n",
       "      <td>1</td>\n",
       "      <td>1</td>\n",
       "      <td>2</td>\n",
       "      <td>Tie</td>\n",
       "    </tr>\n",
       "    <tr>\n",
       "      <th>217</th>\n",
       "      <td>12</td>\n",
       "      <td>2023-11-04 00:00:00</td>\n",
       "      <td>Celta Vigo</td>\n",
       "      <td>Sevilla</td>\n",
       "      <td>1</td>\n",
       "      <td>1</td>\n",
       "      <td>2</td>\n",
       "      <td>Tie</td>\n",
       "    </tr>\n",
       "    <tr>\n",
       "      <th>243</th>\n",
       "      <td>9</td>\n",
       "      <td>2023-10-08 00:00:00</td>\n",
       "      <td>Celta Vigo</td>\n",
       "      <td>Getafe</td>\n",
       "      <td>2</td>\n",
       "      <td>2</td>\n",
       "      <td>4</td>\n",
       "      <td>Tie</td>\n",
       "    </tr>\n",
       "    <tr>\n",
       "      <th>262</th>\n",
       "      <td>7</td>\n",
       "      <td>2023-09-28 00:00:00</td>\n",
       "      <td>Celta Vigo</td>\n",
       "      <td>Alaves</td>\n",
       "      <td>1</td>\n",
       "      <td>1</td>\n",
       "      <td>2</td>\n",
       "      <td>Tie</td>\n",
       "    </tr>\n",
       "    <tr>\n",
       "      <th>334</th>\n",
       "      <td>38</td>\n",
       "      <td>2024-05-15 00:00:00</td>\n",
       "      <td>Celta Vigo</td>\n",
       "      <td>Valencia</td>\n",
       "      <td>2</td>\n",
       "      <td>2</td>\n",
       "      <td>4</td>\n",
       "      <td>Tie</td>\n",
       "    </tr>\n",
       "  </tbody>\n",
       "</table>\n",
       "</div>"
      ],
      "text/plain": [
       "     Round                 Date   Home Team       Away Team Home Score  \\\n",
       "35      30  2024-03-31 00:00:00  Celta Vigo  Rayo Vallecano          0   \n",
       "181     15  2023-12-04 00:00:00  Celta Vigo        Cadiz CF          1   \n",
       "217     12  2023-11-04 00:00:00  Celta Vigo         Sevilla          1   \n",
       "243      9  2023-10-08 00:00:00  Celta Vigo          Getafe          2   \n",
       "262      7  2023-09-28 00:00:00  Celta Vigo          Alaves          1   \n",
       "334     38  2024-05-15 00:00:00  Celta Vigo        Valencia          2   \n",
       "\n",
       "    Away Score Total Goals Result  \n",
       "35           0           0    Tie  \n",
       "181          1           2    Tie  \n",
       "217          1           2    Tie  \n",
       "243          2           4    Tie  \n",
       "262          1           2    Tie  \n",
       "334          2           4    Tie  "
      ]
     },
     "execution_count": 15,
     "metadata": {},
     "output_type": "execute_result"
    }
   ],
   "source": [
    "celta_home_tie = df.loc[(df['Home Team']== \"Celta Vigo\") & (df.Result == 'Tie')]\n",
    "celta_home_tie"
   ]
  },
  {
   "cell_type": "code",
   "execution_count": 16,
   "id": "7ec8cb94-47d9-4833-beae-9ac663354688",
   "metadata": {},
   "outputs": [
    {
     "name": "stdout",
     "output_type": "stream",
     "text": [
      "Total de victorias del Celta en Balaidos:  6\n",
      "Total de derrotas del Celta en Balaidos:  7\n",
      "Total de empates del Celta en Balaidos:  6\n"
     ]
    }
   ],
   "source": [
    "# Calculamos el número de resultados en Balaidos:\n",
    "\n",
    "victory_home = (celta_home['Result'] == 'Home').sum()\n",
    "away_home = (celta_home_away['Result'] == 'Away').sum()\n",
    "tie_home = (celta_home_tie['Result'] == 'Tie').sum()\n",
    "\n",
    "print(f'Total de victorias del Celta en Balaidos: ', victory_home)\n",
    "print(f'Total de derrotas del Celta en Balaidos: ', away_home)\n",
    "print(f'Total de empates del Celta en Balaidos: ', tie_home)"
   ]
  },
  {
   "cell_type": "code",
   "execution_count": 17,
   "id": "ba246b74-e081-45db-9b2f-fa63489d9884",
   "metadata": {},
   "outputs": [
    {
     "data": {
      "image/png": "[encoded data removed]",
      "text/plain": [
       "<Figure size 1000x600 with 1 Axes>"
      ]
     },
     "metadata": {},
     "output_type": "display_data"
    }
   ],
   "source": [
    "# Representado en gráfico por conjunto de resultados con sus valores del Celta como local:\n",
    "\n",
    "plt.figure(figsize=(10, 6))\n",
    "\n",
    "labels= ['Victorias en Balaidos', 'Derrotas en Balaidos', 'Empates en Balaidos']\n",
    "sizes= [victory_home, away_home, tie_home]\n",
    "explode = [0, 0.1, 0]\n",
    "\n",
    "plt.pie(sizes, labels= labels, autopct= '%1.1f%%', explode= explode)\n",
    "plt.title('Distribución de los resultados en Balaidos')\n",
    "\n",
    "plt.show()"
   ]
  },
  {
   "cell_type": "code",
   "execution_count": 18,
   "id": "d890ad43-6e6e-4575-86a9-351f700a0b82",
   "metadata": {},
   "outputs": [
    {
     "name": "stdout",
     "output_type": "stream",
     "text": [
      "Total puntos conseguidos en Balaidos:  24\n"
     ]
    }
   ],
   "source": [
    "# Puntos conseguidos en Balaidos:\n",
    "\n",
    "points_home_Balaidos = (celta_home['Result'] == 'Home').sum() *3 + (celta_home_tie['Result'] == 'Tie').sum() *1\n",
    "print(f'Total puntos conseguidos en Balaidos: ', points_home_Balaidos)"
   ]
  },
  {
   "cell_type": "code",
   "execution_count": 19,
   "id": "0aaec658-9d2f-49e3-9be9-fafc13a8b7c2",
   "metadata": {},
   "outputs": [
    {
     "name": "stdout",
     "output_type": "stream",
     "text": [
      "Promedio de puntos como local por jornada del Celta:  1.26\n"
     ]
    }
   ],
   "source": [
    "# Promedio de puntos conseguidos como local:\n",
    "\n",
    "num_matches_home_celta = df.loc [(df['Home Team'] == \"Celta Vigo\")].shape[0]\n",
    "porcentage_points_home_celta = points_home_Balaidos / num_matches_home_celta\n",
    "print(f'Promedio de puntos como local por jornada del Celta: {porcentage_points_home_celta: .2f}')"
   ]
  },
  {
   "cell_type": "code",
   "execution_count": 20,
   "id": "d49a1b01-8a0d-47aa-a838-17fb179d276e",
   "metadata": {},
   "outputs": [
    {
     "data": {
      "text/html": [
       "<div>\n",
       "<style scoped>\n",
       "    .dataframe tbody tr th:only-of-type {\n",
       "        vertical-align: middle;\n",
       "    }\n",
       "\n",
       "    .dataframe tbody tr th {\n",
       "        vertical-align: top;\n",
       "    }\n",
       "\n",
       "    .dataframe thead th {\n",
       "        text-align: right;\n",
       "    }\n",
       "</style>\n",
       "<table border=\"1\" class=\"dataframe\">\n",
       "  <thead>\n",
       "    <tr style=\"text-align: right;\">\n",
       "      <th></th>\n",
       "      <th>Round</th>\n",
       "      <th>Date</th>\n",
       "      <th>Home Team</th>\n",
       "      <th>Away Team</th>\n",
       "      <th>Home Score</th>\n",
       "      <th>Away Score</th>\n",
       "      <th>Total Goals</th>\n",
       "      <th>Result</th>\n",
       "    </tr>\n",
       "  </thead>\n",
       "  <tbody>\n",
       "    <tr>\n",
       "      <th>45</th>\n",
       "      <td>29</td>\n",
       "      <td>2024-03-17 00:00:00</td>\n",
       "      <td>Sevilla</td>\n",
       "      <td>Celta Vigo</td>\n",
       "      <td>1</td>\n",
       "      <td>2</td>\n",
       "      <td>3</td>\n",
       "      <td>Away</td>\n",
       "    </tr>\n",
       "    <tr>\n",
       "      <th>103</th>\n",
       "      <td>23</td>\n",
       "      <td>2024-02-04 00:00:00</td>\n",
       "      <td>Osasuna</td>\n",
       "      <td>Celta Vigo</td>\n",
       "      <td>0</td>\n",
       "      <td>3</td>\n",
       "      <td>3</td>\n",
       "      <td>Away</td>\n",
       "    </tr>\n",
       "    <tr>\n",
       "      <th>298</th>\n",
       "      <td>4</td>\n",
       "      <td>2023-09-01 00:00:00</td>\n",
       "      <td>Almeria</td>\n",
       "      <td>Celta Vigo</td>\n",
       "      <td>2</td>\n",
       "      <td>3</td>\n",
       "      <td>5</td>\n",
       "      <td>Away</td>\n",
       "    </tr>\n",
       "    <tr>\n",
       "      <th>333</th>\n",
       "      <td>37</td>\n",
       "      <td>2024-05-19 00:00:00</td>\n",
       "      <td>Granada CF</td>\n",
       "      <td>Celta Vigo</td>\n",
       "      <td>1</td>\n",
       "      <td>2</td>\n",
       "      <td>3</td>\n",
       "      <td>Away</td>\n",
       "    </tr>\n",
       "  </tbody>\n",
       "</table>\n",
       "</div>"
      ],
      "text/plain": [
       "     Round                 Date   Home Team   Away Team Home Score Away Score  \\\n",
       "45      29  2024-03-17 00:00:00     Sevilla  Celta Vigo          1          2   \n",
       "103     23  2024-02-04 00:00:00     Osasuna  Celta Vigo          0          3   \n",
       "298      4  2023-09-01 00:00:00     Almeria  Celta Vigo          2          3   \n",
       "333     37  2024-05-19 00:00:00  Granada CF  Celta Vigo          1          2   \n",
       "\n",
       "    Total Goals Result  \n",
       "45            3   Away  \n",
       "103           3   Away  \n",
       "298           5   Away  \n",
       "333           3   Away  "
      ]
     },
     "execution_count": 20,
     "metadata": {},
     "output_type": "execute_result"
    }
   ],
   "source": [
    "# Resultados Celta de Vigo fuera de Balaidos:\n",
    "\n",
    "celta_victory_visiting = df.loc[(df['Away Team']== \"Celta Vigo\") & (df.Result == 'Away')]\n",
    "celta_victory_visiting"
   ]
  },
  {
   "cell_type": "code",
   "execution_count": 21,
   "id": "9124952b-4fad-4ede-a524-7887c8e909e8",
   "metadata": {},
   "outputs": [
    {
     "data": {
      "text/html": [
       "<div>\n",
       "<style scoped>\n",
       "    .dataframe tbody tr th:only-of-type {\n",
       "        vertical-align: middle;\n",
       "    }\n",
       "\n",
       "    .dataframe tbody tr th {\n",
       "        vertical-align: top;\n",
       "    }\n",
       "\n",
       "    .dataframe thead th {\n",
       "        text-align: right;\n",
       "    }\n",
       "</style>\n",
       "<table border=\"1\" class=\"dataframe\">\n",
       "  <thead>\n",
       "    <tr style=\"text-align: right;\">\n",
       "      <th></th>\n",
       "      <th>Round</th>\n",
       "      <th>Date</th>\n",
       "      <th>Home Team</th>\n",
       "      <th>Away Team</th>\n",
       "      <th>Home Score</th>\n",
       "      <th>Away Score</th>\n",
       "      <th>Total Goals</th>\n",
       "      <th>Result</th>\n",
       "    </tr>\n",
       "  </thead>\n",
       "  <tbody>\n",
       "    <tr>\n",
       "      <th>75</th>\n",
       "      <td>26</td>\n",
       "      <td>2024-02-25 00:00:00</td>\n",
       "      <td>Cadiz CF</td>\n",
       "      <td>Celta Vigo</td>\n",
       "      <td>2</td>\n",
       "      <td>2</td>\n",
       "      <td>4</td>\n",
       "      <td>Tie</td>\n",
       "    </tr>\n",
       "    <tr>\n",
       "      <th>137</th>\n",
       "      <td>20</td>\n",
       "      <td>2024-01-13 00:00:00</td>\n",
       "      <td>Mallorca</td>\n",
       "      <td>Celta Vigo</td>\n",
       "      <td>1</td>\n",
       "      <td>1</td>\n",
       "      <td>2</td>\n",
       "      <td>Tie</td>\n",
       "    </tr>\n",
       "    <tr>\n",
       "      <th>172</th>\n",
       "      <td>16</td>\n",
       "      <td>2023-12-11 00:00:00</td>\n",
       "      <td>Rayo Vallecano</td>\n",
       "      <td>Celta Vigo</td>\n",
       "      <td>0</td>\n",
       "      <td>0</td>\n",
       "      <td>0</td>\n",
       "      <td>Tie</td>\n",
       "    </tr>\n",
       "    <tr>\n",
       "      <th>199</th>\n",
       "      <td>14</td>\n",
       "      <td>2023-11-25 00:00:00</td>\n",
       "      <td>Valencia</td>\n",
       "      <td>Celta Vigo</td>\n",
       "      <td>0</td>\n",
       "      <td>0</td>\n",
       "      <td>0</td>\n",
       "      <td>Tie</td>\n",
       "    </tr>\n",
       "    <tr>\n",
       "      <th>317</th>\n",
       "      <td>2</td>\n",
       "      <td>2023-08-19 00:00:00</td>\n",
       "      <td>Real Sociedad</td>\n",
       "      <td>Celta Vigo</td>\n",
       "      <td>1</td>\n",
       "      <td>1</td>\n",
       "      <td>2</td>\n",
       "      <td>Tie</td>\n",
       "    </tr>\n",
       "  </tbody>\n",
       "</table>\n",
       "</div>"
      ],
      "text/plain": [
       "     Round                 Date       Home Team   Away Team Home Score  \\\n",
       "75      26  2024-02-25 00:00:00        Cadiz CF  Celta Vigo          2   \n",
       "137     20  2024-01-13 00:00:00        Mallorca  Celta Vigo          1   \n",
       "172     16  2023-12-11 00:00:00  Rayo Vallecano  Celta Vigo          0   \n",
       "199     14  2023-11-25 00:00:00        Valencia  Celta Vigo          0   \n",
       "317      2  2023-08-19 00:00:00   Real Sociedad  Celta Vigo          1   \n",
       "\n",
       "    Away Score Total Goals Result  \n",
       "75           2           4    Tie  \n",
       "137          1           2    Tie  \n",
       "172          0           0    Tie  \n",
       "199          0           0    Tie  \n",
       "317          1           2    Tie  "
      ]
     },
     "execution_count": 21,
     "metadata": {},
     "output_type": "execute_result"
    }
   ],
   "source": [
    "celta_tie_visiting = df.loc[(df['Away Team']== \"Celta Vigo\") & (df.Result == 'Tie')]\n",
    "celta_tie_visiting"
   ]
  },
  {
   "cell_type": "code",
   "execution_count": 22,
   "id": "00acf3ed-ab5e-4657-8851-ee7439d851c0",
   "metadata": {},
   "outputs": [
    {
     "data": {
      "text/html": [
       "<div>\n",
       "<style scoped>\n",
       "    .dataframe tbody tr th:only-of-type {\n",
       "        vertical-align: middle;\n",
       "    }\n",
       "\n",
       "    .dataframe tbody tr th {\n",
       "        vertical-align: top;\n",
       "    }\n",
       "\n",
       "    .dataframe thead th {\n",
       "        text-align: right;\n",
       "    }\n",
       "</style>\n",
       "<table border=\"1\" class=\"dataframe\">\n",
       "  <thead>\n",
       "    <tr style=\"text-align: right;\">\n",
       "      <th></th>\n",
       "      <th>Round</th>\n",
       "      <th>Date</th>\n",
       "      <th>Home Team</th>\n",
       "      <th>Away Team</th>\n",
       "      <th>Home Score</th>\n",
       "      <th>Away Score</th>\n",
       "      <th>Total Goals</th>\n",
       "      <th>Result</th>\n",
       "    </tr>\n",
       "  </thead>\n",
       "  <tbody>\n",
       "    <tr>\n",
       "      <th>6</th>\n",
       "      <td>33</td>\n",
       "      <td>2024-04-27 00:00:00</td>\n",
       "      <td>Alaves</td>\n",
       "      <td>Celta Vigo</td>\n",
       "      <td>3</td>\n",
       "      <td>0</td>\n",
       "      <td>3</td>\n",
       "      <td>Home</td>\n",
       "    </tr>\n",
       "    <tr>\n",
       "      <th>29</th>\n",
       "      <td>31</td>\n",
       "      <td>2024-04-12 00:00:00</td>\n",
       "      <td>Betis</td>\n",
       "      <td>Celta Vigo</td>\n",
       "      <td>2</td>\n",
       "      <td>1</td>\n",
       "      <td>3</td>\n",
       "      <td>Home</td>\n",
       "    </tr>\n",
       "    <tr>\n",
       "      <th>53</th>\n",
       "      <td>28</td>\n",
       "      <td>2024-03-10 00:00:00</td>\n",
       "      <td>Real Madrid</td>\n",
       "      <td>Celta Vigo</td>\n",
       "      <td>4</td>\n",
       "      <td>0</td>\n",
       "      <td>4</td>\n",
       "      <td>Home</td>\n",
       "    </tr>\n",
       "    <tr>\n",
       "      <th>94</th>\n",
       "      <td>24</td>\n",
       "      <td>2024-02-11 00:00:00</td>\n",
       "      <td>Getafe</td>\n",
       "      <td>Celta Vigo</td>\n",
       "      <td>3</td>\n",
       "      <td>2</td>\n",
       "      <td>5</td>\n",
       "      <td>Home</td>\n",
       "    </tr>\n",
       "    <tr>\n",
       "      <th>156</th>\n",
       "      <td>18</td>\n",
       "      <td>2023-12-20 00:00:00</td>\n",
       "      <td>Villarreal</td>\n",
       "      <td>Celta Vigo</td>\n",
       "      <td>3</td>\n",
       "      <td>2</td>\n",
       "      <td>5</td>\n",
       "      <td>Home</td>\n",
       "    </tr>\n",
       "    <tr>\n",
       "      <th>210</th>\n",
       "      <td>13</td>\n",
       "      <td>2023-11-10 00:00:00</td>\n",
       "      <td>Ath Bilbao</td>\n",
       "      <td>Celta Vigo</td>\n",
       "      <td>4</td>\n",
       "      <td>3</td>\n",
       "      <td>7</td>\n",
       "      <td>Home</td>\n",
       "    </tr>\n",
       "    <tr>\n",
       "      <th>230</th>\n",
       "      <td>11</td>\n",
       "      <td>2023-10-27 00:00:00</td>\n",
       "      <td>Girona</td>\n",
       "      <td>Celta Vigo</td>\n",
       "      <td>1</td>\n",
       "      <td>0</td>\n",
       "      <td>1</td>\n",
       "      <td>Home</td>\n",
       "    </tr>\n",
       "    <tr>\n",
       "      <th>251</th>\n",
       "      <td>8</td>\n",
       "      <td>2023-10-02 00:00:00</td>\n",
       "      <td>Las Palmas</td>\n",
       "      <td>Celta Vigo</td>\n",
       "      <td>2</td>\n",
       "      <td>1</td>\n",
       "      <td>3</td>\n",
       "      <td>Home</td>\n",
       "    </tr>\n",
       "    <tr>\n",
       "      <th>277</th>\n",
       "      <td>6</td>\n",
       "      <td>2023-09-23 00:00:00</td>\n",
       "      <td>Barcelona</td>\n",
       "      <td>Celta Vigo</td>\n",
       "      <td>3</td>\n",
       "      <td>2</td>\n",
       "      <td>5</td>\n",
       "      <td>Home</td>\n",
       "    </tr>\n",
       "    <tr>\n",
       "      <th>331</th>\n",
       "      <td>35</td>\n",
       "      <td>2024-05-12 00:00:00</td>\n",
       "      <td>Atl. Madrid</td>\n",
       "      <td>Celta Vigo</td>\n",
       "      <td>1</td>\n",
       "      <td>0</td>\n",
       "      <td>1</td>\n",
       "      <td>Home</td>\n",
       "    </tr>\n",
       "  </tbody>\n",
       "</table>\n",
       "</div>"
      ],
      "text/plain": [
       "     Round                 Date    Home Team   Away Team Home Score  \\\n",
       "6       33  2024-04-27 00:00:00       Alaves  Celta Vigo          3   \n",
       "29      31  2024-04-12 00:00:00        Betis  Celta Vigo          2   \n",
       "53      28  2024-03-10 00:00:00  Real Madrid  Celta Vigo          4   \n",
       "94      24  2024-02-11 00:00:00       Getafe  Celta Vigo          3   \n",
       "156     18  2023-12-20 00:00:00   Villarreal  Celta Vigo          3   \n",
       "210     13  2023-11-10 00:00:00   Ath Bilbao  Celta Vigo          4   \n",
       "230     11  2023-10-27 00:00:00       Girona  Celta Vigo          1   \n",
       "251      8  2023-10-02 00:00:00   Las Palmas  Celta Vigo          2   \n",
       "277      6  2023-09-23 00:00:00    Barcelona  Celta Vigo          3   \n",
       "331     35  2024-05-12 00:00:00  Atl. Madrid  Celta Vigo          1   \n",
       "\n",
       "    Away Score Total Goals Result  \n",
       "6            0           3   Home  \n",
       "29           1           3   Home  \n",
       "53           0           4   Home  \n",
       "94           2           5   Home  \n",
       "156          2           5   Home  \n",
       "210          3           7   Home  \n",
       "230          0           1   Home  \n",
       "251          1           3   Home  \n",
       "277          2           5   Home  \n",
       "331          0           1   Home  "
      ]
     },
     "execution_count": 22,
     "metadata": {},
     "output_type": "execute_result"
    }
   ],
   "source": [
    "celta_away_visiting = df.loc[(df['Away Team']== \"Celta Vigo\") & (df.Result == 'Home')]\n",
    "celta_away_visiting"
   ]
  },
  {
   "cell_type": "code",
   "execution_count": 23,
   "id": "ee74d29e-77c9-4ffe-93fc-e3eeebd1849e",
   "metadata": {},
   "outputs": [
    {
     "name": "stdout",
     "output_type": "stream",
     "text": [
      "Total de victorias del Celta fuera de Balaidos:  4\n",
      "Total de derrotas del Celta fuera de Balaidos:  10\n",
      "Total de empates del Celta fuera de Balaidos:  5\n"
     ]
    }
   ],
   "source": [
    "# Calculamos el número de resultados fuera de Balaidos:\n",
    "\n",
    "victory_visiting = (celta_victory_visiting['Result'] == 'Away').sum()\n",
    "away_visiting = (celta_away_visiting['Result'] == 'Home').sum()\n",
    "tie_visiting = (celta_tie_visiting['Result'] == 'Tie').sum()\n",
    "\n",
    "print(f'Total de victorias del Celta fuera de Balaidos: ', victory_visiting)\n",
    "print(f'Total de derrotas del Celta fuera de Balaidos: ', away_visiting)\n",
    "print(f'Total de empates del Celta fuera de Balaidos: ', tie_visiting )"
   ]
  },
  {
   "cell_type": "code",
   "execution_count": 24,
   "id": "d0741f81-3b91-4a63-88c0-dcff321f4c56",
   "metadata": {},
   "outputs": [
    {
     "data": {
      "image/png": "[encoded data removed]",
      "text/plain": [
       "<Figure size 1000x600 with 1 Axes>"
      ]
     },
     "metadata": {},
     "output_type": "display_data"
    }
   ],
   "source": [
    "# Gráfico por conjunto de resultados con sus valores del Celta como visitante:\n",
    "\n",
    "plt.figure(figsize=(10, 6))\n",
    "\n",
    "labels= ['Victorias fuera de Balaidos', 'Derrotas fuera de Balaidos', 'Empates fuera de Balaidos']\n",
    "sizes= [victory_visiting, away_visiting, tie_visiting]\n",
    "explode = [0, 0.1, 0]\n",
    "\n",
    "plt.pie(sizes, labels= labels, autopct= '%1.1f%%', explode= explode)\n",
    "plt.title('Distribución de los resultados fuera de Balaidos')\n",
    "\n",
    "plt.show()"
   ]
  },
  {
   "cell_type": "code",
   "execution_count": 25,
   "id": "e3a08a8b-2a64-412a-a37f-092654c1204f",
   "metadata": {},
   "outputs": [
    {
     "name": "stdout",
     "output_type": "stream",
     "text": [
      "Total puntos conseguidos fuera de Balaidos:  17\n"
     ]
    }
   ],
   "source": [
    "# Puntos conseguidos fuera de Balaidos:\n",
    "\n",
    "points_Celta_team_visiting = (celta_victory_visiting['Result'] == 'Away').sum() *3 + (celta_tie_visiting['Result'] == 'Tie').sum() *1\n",
    "print(f'Total puntos conseguidos fuera de Balaidos: ', points_Celta_team_visiting )"
   ]
  },
  {
   "cell_type": "code",
   "execution_count": 26,
   "id": "f10aa6f6-d78d-44b0-ae77-9a3e826697d0",
   "metadata": {},
   "outputs": [
    {
     "name": "stdout",
     "output_type": "stream",
     "text": [
      "Promedio de puntos como visitante por jornada del Celta:  0.89\n"
     ]
    }
   ],
   "source": [
    "# Promedio de puntos como visitante:\n",
    "\n",
    "num_matches_away_celta = df.loc [(df['Away Team'] == \"Celta Vigo\")].shape[0]\n",
    "porcentage_points_away_celta = points_Celta_team_visiting / num_matches_away_celta\n",
    "print(f'Promedio de puntos como visitante por jornada del Celta: {porcentage_points_away_celta: .2f}')"
   ]
  },
  {
   "cell_type": "code",
   "execution_count": 27,
   "id": "4215b5f7-4c23-4cf7-955f-4a5d7f904593",
   "metadata": {},
   "outputs": [
    {
     "name": "stdout",
     "output_type": "stream",
     "text": [
      "Puntos totales del Celta de Vigo: 41\n"
     ]
    }
   ],
   "source": [
    "# Puntos totales:\n",
    "\n",
    "total_points_celta = points_Celta_team_visiting.sum() + points_home_Balaidos.sum()\n",
    "print(f'Puntos totales del Celta de Vigo: {total_points_celta}')"
   ]
  },
  {
   "cell_type": "code",
   "execution_count": 167,
   "id": "741b7eda-761b-471f-80f4-059f16d5dd94",
   "metadata": {},
   "outputs": [
    {
     "name": "stdout",
     "output_type": "stream",
     "text": [
      "Promedio de puntos por jornada por el Celta:  1.08\n"
     ]
    }
   ],
   "source": [
    "# Promedio de puntos por partido:\n",
    "\n",
    "num_matches_celta = num_matches_away_celta + num_matches_home_celta\n",
    "porcentage_points_celta = total_points_celta / num_matches_celta\n",
    "print(f'Promedio de puntos por jornada por el Celta: {porcentage_points_celta: .2f}')"
   ]
  },
  {
   "cell_type": "code",
   "execution_count": 29,
   "id": "0d000a30-bc14-41fa-806e-af1844772bf8",
   "metadata": {},
   "outputs": [],
   "source": [
    "# Analizamos la temporada con los 2 diferentes entrenadores.\n",
    "# Puntos con Benitez y puntos con Giraldez:"
   ]
  },
  {
   "cell_type": "code",
   "execution_count": 30,
   "id": "b7afaa72-89f5-4b85-8ae8-ff8c36f2041b",
   "metadata": {},
   "outputs": [
    {
     "data": {
      "text/html": [
       "<div>\n",
       "<style scoped>\n",
       "    .dataframe tbody tr th:only-of-type {\n",
       "        vertical-align: middle;\n",
       "    }\n",
       "\n",
       "    .dataframe tbody tr th {\n",
       "        vertical-align: top;\n",
       "    }\n",
       "\n",
       "    .dataframe thead th {\n",
       "        text-align: right;\n",
       "    }\n",
       "</style>\n",
       "<table border=\"1\" class=\"dataframe\">\n",
       "  <thead>\n",
       "    <tr style=\"text-align: right;\">\n",
       "      <th></th>\n",
       "      <th>Round</th>\n",
       "      <th>Date</th>\n",
       "      <th>Home Team</th>\n",
       "      <th>Away Team</th>\n",
       "      <th>Home Score</th>\n",
       "      <th>Away Score</th>\n",
       "      <th>Total Goals</th>\n",
       "      <th>Result</th>\n",
       "    </tr>\n",
       "  </thead>\n",
       "  <tbody>\n",
       "    <tr>\n",
       "      <th>70</th>\n",
       "      <td>27</td>\n",
       "      <td>2024-03-01 00:00:00</td>\n",
       "      <td>Celta Vigo</td>\n",
       "      <td>Almeria</td>\n",
       "      <td>1</td>\n",
       "      <td>0</td>\n",
       "      <td>1</td>\n",
       "      <td>Home</td>\n",
       "    </tr>\n",
       "    <tr>\n",
       "      <th>144</th>\n",
       "      <td>19</td>\n",
       "      <td>2024-01-03 00:00:00</td>\n",
       "      <td>Celta Vigo</td>\n",
       "      <td>Betis</td>\n",
       "      <td>2</td>\n",
       "      <td>1</td>\n",
       "      <td>3</td>\n",
       "      <td>Home</td>\n",
       "    </tr>\n",
       "    <tr>\n",
       "      <th>169</th>\n",
       "      <td>17</td>\n",
       "      <td>2023-12-16 00:00:00</td>\n",
       "      <td>Celta Vigo</td>\n",
       "      <td>Granada CF</td>\n",
       "      <td>1</td>\n",
       "      <td>0</td>\n",
       "      <td>1</td>\n",
       "      <td>Home</td>\n",
       "    </tr>\n",
       "  </tbody>\n",
       "</table>\n",
       "</div>"
      ],
      "text/plain": [
       "     Round                 Date   Home Team   Away Team Home Score Away Score  \\\n",
       "70      27  2024-03-01 00:00:00  Celta Vigo     Almeria          1          0   \n",
       "144     19  2024-01-03 00:00:00  Celta Vigo       Betis          2          1   \n",
       "169     17  2023-12-16 00:00:00  Celta Vigo  Granada CF          1          0   \n",
       "\n",
       "    Total Goals Result  \n",
       "70            1   Home  \n",
       "144           3   Home  \n",
       "169           1   Home  "
      ]
     },
     "execution_count": 30,
     "metadata": {},
     "output_type": "execute_result"
    }
   ],
   "source": [
    "# Benitez esta con el equipo desde la jornada 1 hasta la 28.\n",
    "# Resultados como local:\n",
    "\n",
    "celta_home_benitez = df.loc[(df['Home Team']== \"Celta Vigo\") & (df.Result == 'Home') & (df.Round < 29)]\n",
    "celta_home_benitez"
   ]
  },
  {
   "cell_type": "code",
   "execution_count": 31,
   "id": "cbf27272-83bc-48f0-87f4-d31b949067ae",
   "metadata": {},
   "outputs": [
    {
     "data": {
      "text/html": [
       "<div>\n",
       "<style scoped>\n",
       "    .dataframe tbody tr th:only-of-type {\n",
       "        vertical-align: middle;\n",
       "    }\n",
       "\n",
       "    .dataframe tbody tr th {\n",
       "        vertical-align: top;\n",
       "    }\n",
       "\n",
       "    .dataframe thead th {\n",
       "        text-align: right;\n",
       "    }\n",
       "</style>\n",
       "<table border=\"1\" class=\"dataframe\">\n",
       "  <thead>\n",
       "    <tr style=\"text-align: right;\">\n",
       "      <th></th>\n",
       "      <th>Round</th>\n",
       "      <th>Date</th>\n",
       "      <th>Home Team</th>\n",
       "      <th>Away Team</th>\n",
       "      <th>Home Score</th>\n",
       "      <th>Away Score</th>\n",
       "      <th>Total Goals</th>\n",
       "      <th>Result</th>\n",
       "    </tr>\n",
       "  </thead>\n",
       "  <tbody>\n",
       "    <tr>\n",
       "      <th>86</th>\n",
       "      <td>25</td>\n",
       "      <td>2024-02-17 00:00:00</td>\n",
       "      <td>Celta Vigo</td>\n",
       "      <td>Barcelona</td>\n",
       "      <td>1</td>\n",
       "      <td>2</td>\n",
       "      <td>3</td>\n",
       "      <td>Away</td>\n",
       "    </tr>\n",
       "    <tr>\n",
       "      <th>117</th>\n",
       "      <td>22</td>\n",
       "      <td>2024-01-28 00:00:00</td>\n",
       "      <td>Celta Vigo</td>\n",
       "      <td>Girona</td>\n",
       "      <td>0</td>\n",
       "      <td>1</td>\n",
       "      <td>1</td>\n",
       "      <td>Away</td>\n",
       "    </tr>\n",
       "    <tr>\n",
       "      <th>128</th>\n",
       "      <td>21</td>\n",
       "      <td>2024-01-20 00:00:00</td>\n",
       "      <td>Celta Vigo</td>\n",
       "      <td>Real Sociedad</td>\n",
       "      <td>0</td>\n",
       "      <td>1</td>\n",
       "      <td>1</td>\n",
       "      <td>Away</td>\n",
       "    </tr>\n",
       "    <tr>\n",
       "      <th>236</th>\n",
       "      <td>10</td>\n",
       "      <td>2023-10-21 00:00:00</td>\n",
       "      <td>Celta Vigo</td>\n",
       "      <td>Atl. Madrid</td>\n",
       "      <td>0</td>\n",
       "      <td>3</td>\n",
       "      <td>3</td>\n",
       "      <td>Away</td>\n",
       "    </tr>\n",
       "    <tr>\n",
       "      <th>287</th>\n",
       "      <td>5</td>\n",
       "      <td>2023-09-16 00:00:00</td>\n",
       "      <td>Celta Vigo</td>\n",
       "      <td>Mallorca</td>\n",
       "      <td>0</td>\n",
       "      <td>1</td>\n",
       "      <td>1</td>\n",
       "      <td>Away</td>\n",
       "    </tr>\n",
       "    <tr>\n",
       "      <th>308</th>\n",
       "      <td>3</td>\n",
       "      <td>2023-08-25 00:00:00</td>\n",
       "      <td>Celta Vigo</td>\n",
       "      <td>Real Madrid</td>\n",
       "      <td>0</td>\n",
       "      <td>1</td>\n",
       "      <td>1</td>\n",
       "      <td>Away</td>\n",
       "    </tr>\n",
       "    <tr>\n",
       "      <th>324</th>\n",
       "      <td>1</td>\n",
       "      <td>2023-08-13 00:00:00</td>\n",
       "      <td>Celta Vigo</td>\n",
       "      <td>Osasuna</td>\n",
       "      <td>0</td>\n",
       "      <td>2</td>\n",
       "      <td>2</td>\n",
       "      <td>Away</td>\n",
       "    </tr>\n",
       "  </tbody>\n",
       "</table>\n",
       "</div>"
      ],
      "text/plain": [
       "     Round                 Date   Home Team      Away Team Home Score  \\\n",
       "86      25  2024-02-17 00:00:00  Celta Vigo      Barcelona          1   \n",
       "117     22  2024-01-28 00:00:00  Celta Vigo         Girona          0   \n",
       "128     21  2024-01-20 00:00:00  Celta Vigo  Real Sociedad          0   \n",
       "236     10  2023-10-21 00:00:00  Celta Vigo    Atl. Madrid          0   \n",
       "287      5  2023-09-16 00:00:00  Celta Vigo       Mallorca          0   \n",
       "308      3  2023-08-25 00:00:00  Celta Vigo    Real Madrid          0   \n",
       "324      1  2023-08-13 00:00:00  Celta Vigo        Osasuna          0   \n",
       "\n",
       "    Away Score Total Goals Result  \n",
       "86           2           3   Away  \n",
       "117          1           1   Away  \n",
       "128          1           1   Away  \n",
       "236          3           3   Away  \n",
       "287          1           1   Away  \n",
       "308          1           1   Away  \n",
       "324          2           2   Away  "
      ]
     },
     "execution_count": 31,
     "metadata": {},
     "output_type": "execute_result"
    }
   ],
   "source": [
    "celta_home_away_benitez = df.loc[(df['Home Team']== \"Celta Vigo\") & (df.Result == 'Away') & (df.Round < 29)]\n",
    "celta_home_away_benitez"
   ]
  },
  {
   "cell_type": "code",
   "execution_count": 32,
   "id": "2ff94651-6ed9-4f18-b2bf-9b455b09750d",
   "metadata": {},
   "outputs": [
    {
     "data": {
      "text/html": [
       "<div>\n",
       "<style scoped>\n",
       "    .dataframe tbody tr th:only-of-type {\n",
       "        vertical-align: middle;\n",
       "    }\n",
       "\n",
       "    .dataframe tbody tr th {\n",
       "        vertical-align: top;\n",
       "    }\n",
       "\n",
       "    .dataframe thead th {\n",
       "        text-align: right;\n",
       "    }\n",
       "</style>\n",
       "<table border=\"1\" class=\"dataframe\">\n",
       "  <thead>\n",
       "    <tr style=\"text-align: right;\">\n",
       "      <th></th>\n",
       "      <th>Round</th>\n",
       "      <th>Date</th>\n",
       "      <th>Home Team</th>\n",
       "      <th>Away Team</th>\n",
       "      <th>Home Score</th>\n",
       "      <th>Away Score</th>\n",
       "      <th>Total Goals</th>\n",
       "      <th>Result</th>\n",
       "    </tr>\n",
       "  </thead>\n",
       "  <tbody>\n",
       "    <tr>\n",
       "      <th>181</th>\n",
       "      <td>15</td>\n",
       "      <td>2023-12-04 00:00:00</td>\n",
       "      <td>Celta Vigo</td>\n",
       "      <td>Cadiz CF</td>\n",
       "      <td>1</td>\n",
       "      <td>1</td>\n",
       "      <td>2</td>\n",
       "      <td>Tie</td>\n",
       "    </tr>\n",
       "    <tr>\n",
       "      <th>217</th>\n",
       "      <td>12</td>\n",
       "      <td>2023-11-04 00:00:00</td>\n",
       "      <td>Celta Vigo</td>\n",
       "      <td>Sevilla</td>\n",
       "      <td>1</td>\n",
       "      <td>1</td>\n",
       "      <td>2</td>\n",
       "      <td>Tie</td>\n",
       "    </tr>\n",
       "    <tr>\n",
       "      <th>243</th>\n",
       "      <td>9</td>\n",
       "      <td>2023-10-08 00:00:00</td>\n",
       "      <td>Celta Vigo</td>\n",
       "      <td>Getafe</td>\n",
       "      <td>2</td>\n",
       "      <td>2</td>\n",
       "      <td>4</td>\n",
       "      <td>Tie</td>\n",
       "    </tr>\n",
       "    <tr>\n",
       "      <th>262</th>\n",
       "      <td>7</td>\n",
       "      <td>2023-09-28 00:00:00</td>\n",
       "      <td>Celta Vigo</td>\n",
       "      <td>Alaves</td>\n",
       "      <td>1</td>\n",
       "      <td>1</td>\n",
       "      <td>2</td>\n",
       "      <td>Tie</td>\n",
       "    </tr>\n",
       "  </tbody>\n",
       "</table>\n",
       "</div>"
      ],
      "text/plain": [
       "     Round                 Date   Home Team Away Team Home Score Away Score  \\\n",
       "181     15  2023-12-04 00:00:00  Celta Vigo  Cadiz CF          1          1   \n",
       "217     12  2023-11-04 00:00:00  Celta Vigo   Sevilla          1          1   \n",
       "243      9  2023-10-08 00:00:00  Celta Vigo    Getafe          2          2   \n",
       "262      7  2023-09-28 00:00:00  Celta Vigo    Alaves          1          1   \n",
       "\n",
       "    Total Goals Result  \n",
       "181           2    Tie  \n",
       "217           2    Tie  \n",
       "243           4    Tie  \n",
       "262           2    Tie  "
      ]
     },
     "execution_count": 32,
     "metadata": {},
     "output_type": "execute_result"
    }
   ],
   "source": [
    "celta_home_tie_benitez = df.loc[(df['Home Team']== \"Celta Vigo\") & (df.Result == 'Tie') & (df.Round < 29)]\n",
    "celta_home_tie_benitez"
   ]
  },
  {
   "cell_type": "code",
   "execution_count": 33,
   "id": "5e20c417-74cb-40c3-9993-6c235527233f",
   "metadata": {},
   "outputs": [
    {
     "name": "stdout",
     "output_type": "stream",
     "text": [
      "Total de victorias del Celta en Balaidos:  3\n",
      "Total de derrotas del Celta en Balaidos:  7\n",
      "Total de empates del Celta en Balaidos:  4\n"
     ]
    }
   ],
   "source": [
    "# Calculamos el número de resultados en Balaidos con Benitez:\n",
    "\n",
    "victory_home_benitez = (celta_home_benitez['Result'] == 'Home').sum()\n",
    "away_home_benitez = (celta_home_away_benitez['Result'] == 'Away').sum()\n",
    "tie_home_benitez = (celta_home_tie_benitez['Result'] == 'Tie').sum()\n",
    "\n",
    "print(f'Total de victorias del Celta en Balaidos: ', victory_home_benitez)\n",
    "print(f'Total de derrotas del Celta en Balaidos: ', away_home_benitez)\n",
    "print(f'Total de empates del Celta en Balaidos: ', tie_home_benitez)"
   ]
  },
  {
   "cell_type": "code",
   "execution_count": 34,
   "id": "379e83f0-cdd5-4581-bf3c-0b556e150f91",
   "metadata": {},
   "outputs": [
    {
     "data": {
      "image/png": "[encoded data removed]",
      "text/plain": [
       "<Figure size 1000x600 with 1 Axes>"
      ]
     },
     "metadata": {},
     "output_type": "display_data"
    }
   ],
   "source": [
    "# Gráfico que representa el conjunto de resultados obtenidos por Benitez como local:\n",
    "\n",
    "plt.figure(figsize=(10, 6))\n",
    "\n",
    "labels= ['Victorias en Balaidos', 'Derrotas en Balaidos', 'Empates en Balaidos']\n",
    "sizes= [victory_home_benitez, away_home_benitez, tie_home_benitez]\n",
    "explode = [0, 0.1, 0]\n",
    "\n",
    "plt.pie(sizes, labels= labels, autopct= '%1.1f%%', explode= explode)\n",
    "plt.title('Distribución de los resultados en Balaidos con Benitez')\n",
    "\n",
    "plt.show()"
   ]
  },
  {
   "cell_type": "code",
   "execution_count": 35,
   "id": "173f619e-b6e6-4bc9-98e9-a91be0e8ee30",
   "metadata": {},
   "outputs": [
    {
     "name": "stdout",
     "output_type": "stream",
     "text": [
      "Total puntos conseguidos en Balaidos con Benitez:  13\n"
     ]
    }
   ],
   "source": [
    "# Total de puntos conseguidos por Benitez como local:\n",
    "\n",
    "points_home_Balaidos_benitez = (celta_home_benitez['Result'] == 'Home').sum() *3 + (celta_home_tie_benitez['Result'] == 'Tie').sum() *1\n",
    "print(f'Total puntos conseguidos en Balaidos con Benitez: ', points_home_Balaidos_benitez)"
   ]
  },
  {
   "cell_type": "code",
   "execution_count": 36,
   "id": "15618470-4c10-43aa-ac43-0e63a856fc28",
   "metadata": {},
   "outputs": [
    {
     "name": "stdout",
     "output_type": "stream",
     "text": [
      "Promedio de puntos como local por jornada del Celta de Benitez:  0.93\n"
     ]
    }
   ],
   "source": [
    "# Promedio de puntos por jornada como local con Benitez:\n",
    "\n",
    "num_matches_home_benitez = df.loc [(df['Home Team'] == \"Celta Vigo\") & (df.Round < 29)].shape[0]\n",
    "porcentage_points_home_benitez = points_home_Balaidos_benitez / num_matches_home_benitez\n",
    "print(f'Promedio de puntos como local por jornada del Celta de Benitez: {porcentage_points_home_benitez: .2f}')"
   ]
  },
  {
   "cell_type": "code",
   "execution_count": 37,
   "id": "23edbfd4-7cdc-4d11-b734-fc4d52a68a06",
   "metadata": {},
   "outputs": [
    {
     "data": {
      "text/html": [
       "<div>\n",
       "<style scoped>\n",
       "    .dataframe tbody tr th:only-of-type {\n",
       "        vertical-align: middle;\n",
       "    }\n",
       "\n",
       "    .dataframe tbody tr th {\n",
       "        vertical-align: top;\n",
       "    }\n",
       "\n",
       "    .dataframe thead th {\n",
       "        text-align: right;\n",
       "    }\n",
       "</style>\n",
       "<table border=\"1\" class=\"dataframe\">\n",
       "  <thead>\n",
       "    <tr style=\"text-align: right;\">\n",
       "      <th></th>\n",
       "      <th>Round</th>\n",
       "      <th>Date</th>\n",
       "      <th>Home Team</th>\n",
       "      <th>Away Team</th>\n",
       "      <th>Home Score</th>\n",
       "      <th>Away Score</th>\n",
       "      <th>Total Goals</th>\n",
       "      <th>Result</th>\n",
       "    </tr>\n",
       "  </thead>\n",
       "  <tbody>\n",
       "    <tr>\n",
       "      <th>103</th>\n",
       "      <td>23</td>\n",
       "      <td>2024-02-04 00:00:00</td>\n",
       "      <td>Osasuna</td>\n",
       "      <td>Celta Vigo</td>\n",
       "      <td>0</td>\n",
       "      <td>3</td>\n",
       "      <td>3</td>\n",
       "      <td>Away</td>\n",
       "    </tr>\n",
       "    <tr>\n",
       "      <th>298</th>\n",
       "      <td>4</td>\n",
       "      <td>2023-09-01 00:00:00</td>\n",
       "      <td>Almeria</td>\n",
       "      <td>Celta Vigo</td>\n",
       "      <td>2</td>\n",
       "      <td>3</td>\n",
       "      <td>5</td>\n",
       "      <td>Away</td>\n",
       "    </tr>\n",
       "  </tbody>\n",
       "</table>\n",
       "</div>"
      ],
      "text/plain": [
       "     Round                 Date Home Team   Away Team Home Score Away Score  \\\n",
       "103     23  2024-02-04 00:00:00   Osasuna  Celta Vigo          0          3   \n",
       "298      4  2023-09-01 00:00:00   Almeria  Celta Vigo          2          3   \n",
       "\n",
       "    Total Goals Result  \n",
       "103           3   Away  \n",
       "298           5   Away  "
      ]
     },
     "execution_count": 37,
     "metadata": {},
     "output_type": "execute_result"
    }
   ],
   "source": [
    "# Benitez como visitante:\n",
    "\n",
    "celta_victory_visiting_benitez = df.loc[(df['Away Team']== \"Celta Vigo\") & (df.Result == 'Away') & (df.Round < 29)]\n",
    "celta_victory_visiting_benitez"
   ]
  },
  {
   "cell_type": "code",
   "execution_count": 38,
   "id": "e0e736e1-510d-48bd-86d9-47eb045993eb",
   "metadata": {},
   "outputs": [
    {
     "data": {
      "text/html": [
       "<div>\n",
       "<style scoped>\n",
       "    .dataframe tbody tr th:only-of-type {\n",
       "        vertical-align: middle;\n",
       "    }\n",
       "\n",
       "    .dataframe tbody tr th {\n",
       "        vertical-align: top;\n",
       "    }\n",
       "\n",
       "    .dataframe thead th {\n",
       "        text-align: right;\n",
       "    }\n",
       "</style>\n",
       "<table border=\"1\" class=\"dataframe\">\n",
       "  <thead>\n",
       "    <tr style=\"text-align: right;\">\n",
       "      <th></th>\n",
       "      <th>Round</th>\n",
       "      <th>Date</th>\n",
       "      <th>Home Team</th>\n",
       "      <th>Away Team</th>\n",
       "      <th>Home Score</th>\n",
       "      <th>Away Score</th>\n",
       "      <th>Total Goals</th>\n",
       "      <th>Result</th>\n",
       "    </tr>\n",
       "  </thead>\n",
       "  <tbody>\n",
       "    <tr>\n",
       "      <th>75</th>\n",
       "      <td>26</td>\n",
       "      <td>2024-02-25 00:00:00</td>\n",
       "      <td>Cadiz CF</td>\n",
       "      <td>Celta Vigo</td>\n",
       "      <td>2</td>\n",
       "      <td>2</td>\n",
       "      <td>4</td>\n",
       "      <td>Tie</td>\n",
       "    </tr>\n",
       "    <tr>\n",
       "      <th>137</th>\n",
       "      <td>20</td>\n",
       "      <td>2024-01-13 00:00:00</td>\n",
       "      <td>Mallorca</td>\n",
       "      <td>Celta Vigo</td>\n",
       "      <td>1</td>\n",
       "      <td>1</td>\n",
       "      <td>2</td>\n",
       "      <td>Tie</td>\n",
       "    </tr>\n",
       "    <tr>\n",
       "      <th>172</th>\n",
       "      <td>16</td>\n",
       "      <td>2023-12-11 00:00:00</td>\n",
       "      <td>Rayo Vallecano</td>\n",
       "      <td>Celta Vigo</td>\n",
       "      <td>0</td>\n",
       "      <td>0</td>\n",
       "      <td>0</td>\n",
       "      <td>Tie</td>\n",
       "    </tr>\n",
       "    <tr>\n",
       "      <th>199</th>\n",
       "      <td>14</td>\n",
       "      <td>2023-11-25 00:00:00</td>\n",
       "      <td>Valencia</td>\n",
       "      <td>Celta Vigo</td>\n",
       "      <td>0</td>\n",
       "      <td>0</td>\n",
       "      <td>0</td>\n",
       "      <td>Tie</td>\n",
       "    </tr>\n",
       "    <tr>\n",
       "      <th>317</th>\n",
       "      <td>2</td>\n",
       "      <td>2023-08-19 00:00:00</td>\n",
       "      <td>Real Sociedad</td>\n",
       "      <td>Celta Vigo</td>\n",
       "      <td>1</td>\n",
       "      <td>1</td>\n",
       "      <td>2</td>\n",
       "      <td>Tie</td>\n",
       "    </tr>\n",
       "  </tbody>\n",
       "</table>\n",
       "</div>"
      ],
      "text/plain": [
       "     Round                 Date       Home Team   Away Team Home Score  \\\n",
       "75      26  2024-02-25 00:00:00        Cadiz CF  Celta Vigo          2   \n",
       "137     20  2024-01-13 00:00:00        Mallorca  Celta Vigo          1   \n",
       "172     16  2023-12-11 00:00:00  Rayo Vallecano  Celta Vigo          0   \n",
       "199     14  2023-11-25 00:00:00        Valencia  Celta Vigo          0   \n",
       "317      2  2023-08-19 00:00:00   Real Sociedad  Celta Vigo          1   \n",
       "\n",
       "    Away Score Total Goals Result  \n",
       "75           2           4    Tie  \n",
       "137          1           2    Tie  \n",
       "172          0           0    Tie  \n",
       "199          0           0    Tie  \n",
       "317          1           2    Tie  "
      ]
     },
     "execution_count": 38,
     "metadata": {},
     "output_type": "execute_result"
    }
   ],
   "source": [
    "celta_tie_visiting_benitez = df.loc[(df['Away Team']== \"Celta Vigo\") & (df.Result == 'Tie') & (df.Round < 29)]\n",
    "celta_tie_visiting_benitez"
   ]
  },
  {
   "cell_type": "code",
   "execution_count": 39,
   "id": "bc3fe725-14a7-472d-a81c-318948fa2d3c",
   "metadata": {},
   "outputs": [
    {
     "data": {
      "text/html": [
       "<div>\n",
       "<style scoped>\n",
       "    .dataframe tbody tr th:only-of-type {\n",
       "        vertical-align: middle;\n",
       "    }\n",
       "\n",
       "    .dataframe tbody tr th {\n",
       "        vertical-align: top;\n",
       "    }\n",
       "\n",
       "    .dataframe thead th {\n",
       "        text-align: right;\n",
       "    }\n",
       "</style>\n",
       "<table border=\"1\" class=\"dataframe\">\n",
       "  <thead>\n",
       "    <tr style=\"text-align: right;\">\n",
       "      <th></th>\n",
       "      <th>Round</th>\n",
       "      <th>Date</th>\n",
       "      <th>Home Team</th>\n",
       "      <th>Away Team</th>\n",
       "      <th>Home Score</th>\n",
       "      <th>Away Score</th>\n",
       "      <th>Total Goals</th>\n",
       "      <th>Result</th>\n",
       "    </tr>\n",
       "  </thead>\n",
       "  <tbody>\n",
       "    <tr>\n",
       "      <th>53</th>\n",
       "      <td>28</td>\n",
       "      <td>2024-03-10 00:00:00</td>\n",
       "      <td>Real Madrid</td>\n",
       "      <td>Celta Vigo</td>\n",
       "      <td>4</td>\n",
       "      <td>0</td>\n",
       "      <td>4</td>\n",
       "      <td>Home</td>\n",
       "    </tr>\n",
       "    <tr>\n",
       "      <th>94</th>\n",
       "      <td>24</td>\n",
       "      <td>2024-02-11 00:00:00</td>\n",
       "      <td>Getafe</td>\n",
       "      <td>Celta Vigo</td>\n",
       "      <td>3</td>\n",
       "      <td>2</td>\n",
       "      <td>5</td>\n",
       "      <td>Home</td>\n",
       "    </tr>\n",
       "    <tr>\n",
       "      <th>156</th>\n",
       "      <td>18</td>\n",
       "      <td>2023-12-20 00:00:00</td>\n",
       "      <td>Villarreal</td>\n",
       "      <td>Celta Vigo</td>\n",
       "      <td>3</td>\n",
       "      <td>2</td>\n",
       "      <td>5</td>\n",
       "      <td>Home</td>\n",
       "    </tr>\n",
       "    <tr>\n",
       "      <th>210</th>\n",
       "      <td>13</td>\n",
       "      <td>2023-11-10 00:00:00</td>\n",
       "      <td>Ath Bilbao</td>\n",
       "      <td>Celta Vigo</td>\n",
       "      <td>4</td>\n",
       "      <td>3</td>\n",
       "      <td>7</td>\n",
       "      <td>Home</td>\n",
       "    </tr>\n",
       "    <tr>\n",
       "      <th>230</th>\n",
       "      <td>11</td>\n",
       "      <td>2023-10-27 00:00:00</td>\n",
       "      <td>Girona</td>\n",
       "      <td>Celta Vigo</td>\n",
       "      <td>1</td>\n",
       "      <td>0</td>\n",
       "      <td>1</td>\n",
       "      <td>Home</td>\n",
       "    </tr>\n",
       "    <tr>\n",
       "      <th>251</th>\n",
       "      <td>8</td>\n",
       "      <td>2023-10-02 00:00:00</td>\n",
       "      <td>Las Palmas</td>\n",
       "      <td>Celta Vigo</td>\n",
       "      <td>2</td>\n",
       "      <td>1</td>\n",
       "      <td>3</td>\n",
       "      <td>Home</td>\n",
       "    </tr>\n",
       "    <tr>\n",
       "      <th>277</th>\n",
       "      <td>6</td>\n",
       "      <td>2023-09-23 00:00:00</td>\n",
       "      <td>Barcelona</td>\n",
       "      <td>Celta Vigo</td>\n",
       "      <td>3</td>\n",
       "      <td>2</td>\n",
       "      <td>5</td>\n",
       "      <td>Home</td>\n",
       "    </tr>\n",
       "  </tbody>\n",
       "</table>\n",
       "</div>"
      ],
      "text/plain": [
       "     Round                 Date    Home Team   Away Team Home Score  \\\n",
       "53      28  2024-03-10 00:00:00  Real Madrid  Celta Vigo          4   \n",
       "94      24  2024-02-11 00:00:00       Getafe  Celta Vigo          3   \n",
       "156     18  2023-12-20 00:00:00   Villarreal  Celta Vigo          3   \n",
       "210     13  2023-11-10 00:00:00   Ath Bilbao  Celta Vigo          4   \n",
       "230     11  2023-10-27 00:00:00       Girona  Celta Vigo          1   \n",
       "251      8  2023-10-02 00:00:00   Las Palmas  Celta Vigo          2   \n",
       "277      6  2023-09-23 00:00:00    Barcelona  Celta Vigo          3   \n",
       "\n",
       "    Away Score Total Goals Result  \n",
       "53           0           4   Home  \n",
       "94           2           5   Home  \n",
       "156          2           5   Home  \n",
       "210          3           7   Home  \n",
       "230          0           1   Home  \n",
       "251          1           3   Home  \n",
       "277          2           5   Home  "
      ]
     },
     "execution_count": 39,
     "metadata": {},
     "output_type": "execute_result"
    }
   ],
   "source": [
    "celta_away_visiting_benitez = df.loc[(df['Away Team']== \"Celta Vigo\") & (df.Result == 'Home') & (df.Round < 29)]\n",
    "celta_away_visiting_benitez"
   ]
  },
  {
   "cell_type": "code",
   "execution_count": 40,
   "id": "b5d4a952-f0f1-4de7-83f2-34844633c567",
   "metadata": {},
   "outputs": [
    {
     "name": "stdout",
     "output_type": "stream",
     "text": [
      "Total de victorias del Celta fuera de Balaidos:  2\n",
      "Total de derrotas del Celta fuera de Balaidos:  7\n",
      "Total de empates del Celta fuera de Balaidos:  5\n"
     ]
    }
   ],
   "source": [
    "# Calculamos el número de resultados como visitante con Benitez:\n",
    "\n",
    "victory_visiting_benitez = (celta_victory_visiting_benitez['Result'] == 'Away').sum()\n",
    "away_visiting_benitez = (celta_away_visiting_benitez['Result'] == 'Home').sum()\n",
    "tie_visiting_benitez = (celta_tie_visiting_benitez['Result'] == 'Tie').sum()\n",
    "\n",
    "print(f'Total de victorias del Celta fuera de Balaidos: ', victory_visiting_benitez)\n",
    "print(f'Total de derrotas del Celta fuera de Balaidos: ', away_visiting_benitez)\n",
    "print(f'Total de empates del Celta fuera de Balaidos: ', tie_visiting_benitez )"
   ]
  },
  {
   "cell_type": "code",
   "execution_count": 41,
   "id": "56464442-f84d-4504-bd4c-f581539c7796",
   "metadata": {},
   "outputs": [
    {
     "data": {
      "image/png": "[encoded data removed]",
      "text/plain": [
       "<Figure size 1000x600 with 1 Axes>"
      ]
     },
     "metadata": {},
     "output_type": "display_data"
    }
   ],
   "source": [
    "# Gráfico que representa el conjunto de resultados obtenidos por Benitez como visitante:\n",
    "\n",
    "plt.figure(figsize=(10, 6))\n",
    "\n",
    "labels= ['Victorias fuera de Balaidos', 'Derrotas fuera de Balaidos', 'Empates fuera de Balaidos']\n",
    "sizes= [victory_visiting_benitez, away_visiting_benitez, tie_visiting_benitez]\n",
    "explode = [0, 0.1, 0]\n",
    "\n",
    "plt.pie(sizes, labels= labels, autopct= '%1.1f%%', explode= explode)\n",
    "plt.title('Distribución de los resultados fuera de Balaidos con Benitez')\n",
    "\n",
    "plt.show()"
   ]
  },
  {
   "cell_type": "code",
   "execution_count": 42,
   "id": "66c58074-ae65-4609-95b6-671889acb13f",
   "metadata": {},
   "outputs": [
    {
     "name": "stdout",
     "output_type": "stream",
     "text": [
      "Total puntos conseguidos fuera de Balaidos con Benitez:  11\n"
     ]
    }
   ],
   "source": [
    "# Total de puntos conseguidos con Benitez como visitantes:\n",
    "\n",
    "points_Celta_team_visiting_benitez = (celta_victory_visiting_benitez['Result'] == 'Away').sum() *3 + (celta_tie_visiting_benitez['Result'] == 'Tie').sum() *1\n",
    "print(f'Total puntos conseguidos fuera de Balaidos con Benitez: ', points_Celta_team_visiting_benitez )"
   ]
  },
  {
   "cell_type": "code",
   "execution_count": 43,
   "id": "c6fa00d8-5060-4aba-a23e-3cea395bd21a",
   "metadata": {},
   "outputs": [
    {
     "name": "stdout",
     "output_type": "stream",
     "text": [
      "Promedio de puntos como visitante por jornada del Celta de Benitez:  0.79\n"
     ]
    }
   ],
   "source": [
    "# Promedio de puntos por jornada como visitante por Benitez:\n",
    "\n",
    "num_matches_away_benitez = df.loc [(df['Away Team'] == \"Celta Vigo\") & (df.Round < 29)].shape[0]\n",
    "porcentage_points_away_benitez = points_Celta_team_visiting_benitez / num_matches_away_benitez\n",
    "print(f'Promedio de puntos como visitante por jornada del Celta de Benitez: {porcentage_points_away_benitez: .2f}')"
   ]
  },
  {
   "cell_type": "code",
   "execution_count": 44,
   "id": "239d5078-ab70-4b16-8e7a-10bc9868ea2a",
   "metadata": {},
   "outputs": [
    {
     "name": "stdout",
     "output_type": "stream",
     "text": [
      "Puntos totales del Celta de Vigo hasta la jornada 28 con Benitez: 24\n"
     ]
    }
   ],
   "source": [
    "# Total de puntos conseguidos con Benitez:\n",
    "\n",
    "total_points_celta_benitez = points_Celta_team_visiting_benitez.sum() + points_home_Balaidos_benitez.sum()\n",
    "print(f'Puntos totales del Celta de Vigo hasta la jornada 28 con Benitez: {total_points_celta_benitez}')"
   ]
  },
  {
   "cell_type": "code",
   "execution_count": 45,
   "id": "b4700bb4-6481-47b3-8c01-9500b49e0590",
   "metadata": {},
   "outputs": [
    {
     "name": "stdout",
     "output_type": "stream",
     "text": [
      "Promedio de puntos por jornada por el Celta de Giráldez:  0.86\n"
     ]
    }
   ],
   "source": [
    "# Promedio de puntos conseguido por Benitez por jornada:\n",
    "\n",
    "num_matches_benitez = num_matches_away_benitez + num_matches_home_benitez\n",
    "porcentage_points_benitez = total_points_celta_benitez / num_matches_benitez\n",
    "print(f'Promedio de puntos por jornada por el Celta de Giráldez: {porcentage_points_benitez: .2f}')"
   ]
  },
  {
   "cell_type": "code",
   "execution_count": 46,
   "id": "86b5bdb8-7ee6-49db-b4b5-f91daa924c78",
   "metadata": {},
   "outputs": [
    {
     "data": {
      "text/html": [
       "<div>\n",
       "<style scoped>\n",
       "    .dataframe tbody tr th:only-of-type {\n",
       "        vertical-align: middle;\n",
       "    }\n",
       "\n",
       "    .dataframe tbody tr th {\n",
       "        vertical-align: top;\n",
       "    }\n",
       "\n",
       "    .dataframe thead th {\n",
       "        text-align: right;\n",
       "    }\n",
       "</style>\n",
       "<table border=\"1\" class=\"dataframe\">\n",
       "  <thead>\n",
       "    <tr style=\"text-align: right;\">\n",
       "      <th></th>\n",
       "      <th>Round</th>\n",
       "      <th>Date</th>\n",
       "      <th>Home Team</th>\n",
       "      <th>Away Team</th>\n",
       "      <th>Home Score</th>\n",
       "      <th>Away Score</th>\n",
       "      <th>Total Goals</th>\n",
       "      <th>Result</th>\n",
       "    </tr>\n",
       "  </thead>\n",
       "  <tbody>\n",
       "    <tr>\n",
       "      <th>18</th>\n",
       "      <td>32</td>\n",
       "      <td>2024-04-20 00:00:00</td>\n",
       "      <td>Celta Vigo</td>\n",
       "      <td>Las Palmas</td>\n",
       "      <td>4</td>\n",
       "      <td>1</td>\n",
       "      <td>5</td>\n",
       "      <td>Home</td>\n",
       "    </tr>\n",
       "    <tr>\n",
       "      <th>330</th>\n",
       "      <td>34</td>\n",
       "      <td>2024-05-05 00:00:00</td>\n",
       "      <td>Celta Vigo</td>\n",
       "      <td>Villarreal</td>\n",
       "      <td>3</td>\n",
       "      <td>2</td>\n",
       "      <td>5</td>\n",
       "      <td>Home</td>\n",
       "    </tr>\n",
       "    <tr>\n",
       "      <th>332</th>\n",
       "      <td>36</td>\n",
       "      <td>2024-05-15 00:00:00</td>\n",
       "      <td>Celta Vigo</td>\n",
       "      <td>Ath Bilbao</td>\n",
       "      <td>2</td>\n",
       "      <td>1</td>\n",
       "      <td>3</td>\n",
       "      <td>Home</td>\n",
       "    </tr>\n",
       "  </tbody>\n",
       "</table>\n",
       "</div>"
      ],
      "text/plain": [
       "     Round                 Date   Home Team   Away Team Home Score Away Score  \\\n",
       "18      32  2024-04-20 00:00:00  Celta Vigo  Las Palmas          4          1   \n",
       "330     34  2024-05-05 00:00:00  Celta Vigo  Villarreal          3          2   \n",
       "332     36  2024-05-15 00:00:00  Celta Vigo  Ath Bilbao          2          1   \n",
       "\n",
       "    Total Goals Result  \n",
       "18            5   Home  \n",
       "330           5   Home  \n",
       "332           3   Home  "
      ]
     },
     "execution_count": 46,
     "metadata": {},
     "output_type": "execute_result"
    }
   ],
   "source": [
    "# Claudio Giraldez coje al equipo en la jornada 29.\n",
    "# Resultados como local: \n",
    "\n",
    "celta_home_giraldez = df.loc[(df['Home Team']== \"Celta Vigo\") & (df.Result == 'Home') & (df.Round >= 29)]\n",
    "celta_home_giraldez"
   ]
  },
  {
   "cell_type": "code",
   "execution_count": 47,
   "id": "d91417a8-7f02-4e71-9da1-3860a2d4e9aa",
   "metadata": {},
   "outputs": [
    {
     "data": {
      "text/html": [
       "<div>\n",
       "<style scoped>\n",
       "    .dataframe tbody tr th:only-of-type {\n",
       "        vertical-align: middle;\n",
       "    }\n",
       "\n",
       "    .dataframe tbody tr th {\n",
       "        vertical-align: top;\n",
       "    }\n",
       "\n",
       "    .dataframe thead th {\n",
       "        text-align: right;\n",
       "    }\n",
       "</style>\n",
       "<table border=\"1\" class=\"dataframe\">\n",
       "  <thead>\n",
       "    <tr style=\"text-align: right;\">\n",
       "      <th></th>\n",
       "      <th>Round</th>\n",
       "      <th>Date</th>\n",
       "      <th>Home Team</th>\n",
       "      <th>Away Team</th>\n",
       "      <th>Home Score</th>\n",
       "      <th>Away Score</th>\n",
       "      <th>Total Goals</th>\n",
       "      <th>Result</th>\n",
       "    </tr>\n",
       "  </thead>\n",
       "  <tbody>\n",
       "  </tbody>\n",
       "</table>\n",
       "</div>"
      ],
      "text/plain": [
       "Empty DataFrame\n",
       "Columns: [Round, Date, Home Team, Away Team, Home Score, Away Score, Total Goals, Result]\n",
       "Index: []"
      ]
     },
     "execution_count": 47,
     "metadata": {},
     "output_type": "execute_result"
    }
   ],
   "source": [
    "celta_home_away_giraldez = df.loc[(df['Home Team']== \"Celta Vigo\") & (df.Result == 'Away') & (df.Round >= 29)]\n",
    "celta_home_away_giraldez"
   ]
  },
  {
   "cell_type": "code",
   "execution_count": 48,
   "id": "0ca0c398-5a64-4338-9907-4cc5be55ed29",
   "metadata": {},
   "outputs": [
    {
     "data": {
      "text/html": [
       "<div>\n",
       "<style scoped>\n",
       "    .dataframe tbody tr th:only-of-type {\n",
       "        vertical-align: middle;\n",
       "    }\n",
       "\n",
       "    .dataframe tbody tr th {\n",
       "        vertical-align: top;\n",
       "    }\n",
       "\n",
       "    .dataframe thead th {\n",
       "        text-align: right;\n",
       "    }\n",
       "</style>\n",
       "<table border=\"1\" class=\"dataframe\">\n",
       "  <thead>\n",
       "    <tr style=\"text-align: right;\">\n",
       "      <th></th>\n",
       "      <th>Round</th>\n",
       "      <th>Date</th>\n",
       "      <th>Home Team</th>\n",
       "      <th>Away Team</th>\n",
       "      <th>Home Score</th>\n",
       "      <th>Away Score</th>\n",
       "      <th>Total Goals</th>\n",
       "      <th>Result</th>\n",
       "    </tr>\n",
       "  </thead>\n",
       "  <tbody>\n",
       "    <tr>\n",
       "      <th>35</th>\n",
       "      <td>30</td>\n",
       "      <td>2024-03-31 00:00:00</td>\n",
       "      <td>Celta Vigo</td>\n",
       "      <td>Rayo Vallecano</td>\n",
       "      <td>0</td>\n",
       "      <td>0</td>\n",
       "      <td>0</td>\n",
       "      <td>Tie</td>\n",
       "    </tr>\n",
       "    <tr>\n",
       "      <th>334</th>\n",
       "      <td>38</td>\n",
       "      <td>2024-05-15 00:00:00</td>\n",
       "      <td>Celta Vigo</td>\n",
       "      <td>Valencia</td>\n",
       "      <td>2</td>\n",
       "      <td>2</td>\n",
       "      <td>4</td>\n",
       "      <td>Tie</td>\n",
       "    </tr>\n",
       "  </tbody>\n",
       "</table>\n",
       "</div>"
      ],
      "text/plain": [
       "     Round                 Date   Home Team       Away Team Home Score  \\\n",
       "35      30  2024-03-31 00:00:00  Celta Vigo  Rayo Vallecano          0   \n",
       "334     38  2024-05-15 00:00:00  Celta Vigo        Valencia          2   \n",
       "\n",
       "    Away Score Total Goals Result  \n",
       "35           0           0    Tie  \n",
       "334          2           4    Tie  "
      ]
     },
     "execution_count": 48,
     "metadata": {},
     "output_type": "execute_result"
    }
   ],
   "source": [
    "celta_home_tie_giraldez = df.loc[(df['Home Team']== \"Celta Vigo\") & (df.Result == 'Tie') & (df.Round >= 29)]\n",
    "celta_home_tie_giraldez"
   ]
  },
  {
   "cell_type": "code",
   "execution_count": 49,
   "id": "dbfd3875-542f-4204-8e7e-6e244e2f2702",
   "metadata": {},
   "outputs": [
    {
     "name": "stdout",
     "output_type": "stream",
     "text": [
      "Total de victorias del Celta en Balaidos:  3\n",
      "Total de derrotas del Celta en Balaidos:  0\n",
      "Total de empates del Celta en Balaidos:  2\n"
     ]
    }
   ],
   "source": [
    "# Calculamos el número de resultados en Balaidos con Giraldez:\n",
    "\n",
    "victory_home_giraldez = (celta_home_giraldez['Result'] == 'Home').sum()\n",
    "away_home_giraldez = (celta_home_away_giraldez['Result'] == 'Away').sum()\n",
    "tie_home_giraldez = (celta_home_tie_giraldez['Result'] == 'Tie').sum()\n",
    "\n",
    "print(f'Total de victorias del Celta en Balaidos: ', victory_home_giraldez)\n",
    "print(f'Total de derrotas del Celta en Balaidos: ', away_home_giraldez)\n",
    "print(f'Total de empates del Celta en Balaidos: ', tie_home_giraldez)"
   ]
  },
  {
   "cell_type": "code",
   "execution_count": 50,
   "id": "cc9b4ae2-dc6f-4e09-981c-2b93da3d5e33",
   "metadata": {},
   "outputs": [
    {
     "data": {
      "image/png": "[encoded data removed]",
      "text/plain": [
       "<Figure size 1000x600 with 1 Axes>"
      ]
     },
     "metadata": {},
     "output_type": "display_data"
    }
   ],
   "source": [
    "# Gráfico que representa el conjunto de resultados obtenidos por Giraldez como local:\n",
    "\n",
    "plt.figure(figsize=(10, 6))\n",
    "\n",
    "labels= ['Victorias en Balaidos', 'Derrotas en Balaidos', 'Empates en Balaidos']\n",
    "sizes= [victory_home_giraldez, away_home_giraldez, tie_home_giraldez]\n",
    "explode = [0, 0.1, 0]\n",
    "\n",
    "plt.pie(sizes, labels= labels, autopct= '%1.1f%%', explode= explode)\n",
    "plt.title('Distribución de los resultados en Balaidos con Giraldez')\n",
    "\n",
    "plt.show()"
   ]
  },
  {
   "cell_type": "code",
   "execution_count": 51,
   "id": "203ca7a0-27c7-4de6-a2f3-d4e1ac1e7573",
   "metadata": {},
   "outputs": [
    {
     "name": "stdout",
     "output_type": "stream",
     "text": [
      "Total puntos conseguidos en Balaidos con Giraldez:  11\n"
     ]
    }
   ],
   "source": [
    "# Total de puntos conseguido como local por Giraldez:\n",
    "\n",
    "points_home_Balaidos_giraldez = (celta_home_giraldez['Result'] == 'Home').sum() *3 + (celta_home_tie_giraldez['Result'] == 'Tie').sum() *1\n",
    "print(f'Total puntos conseguidos en Balaidos con Giraldez: ', points_home_Balaidos_giraldez)"
   ]
  },
  {
   "cell_type": "code",
   "execution_count": 52,
   "id": "7bcfd526-afb0-496c-9539-5f113bb51684",
   "metadata": {},
   "outputs": [
    {
     "name": "stdout",
     "output_type": "stream",
     "text": [
      "Promedio de puntos como local por jornada del Celta de Giraldez:  2.20\n"
     ]
    }
   ],
   "source": [
    "# Promedio de puntos por jornada como local por Giraldez:\n",
    "\n",
    "num_matches_home_giraldez = df.loc [(df['Home Team'] == \"Celta Vigo\") & (df.Round >= 29)].shape[0]\n",
    "porcentage_points_home_giraldez = points_home_Balaidos_giraldez / num_matches_home_giraldez\n",
    "print(f'Promedio de puntos como local por jornada del Celta de Giraldez: {porcentage_points_home_giraldez: .2f}')"
   ]
  },
  {
   "cell_type": "code",
   "execution_count": 53,
   "id": "9a049993-ae78-4d17-9dba-b30c0c6b5d72",
   "metadata": {},
   "outputs": [
    {
     "data": {
      "text/html": [
       "<div>\n",
       "<style scoped>\n",
       "    .dataframe tbody tr th:only-of-type {\n",
       "        vertical-align: middle;\n",
       "    }\n",
       "\n",
       "    .dataframe tbody tr th {\n",
       "        vertical-align: top;\n",
       "    }\n",
       "\n",
       "    .dataframe thead th {\n",
       "        text-align: right;\n",
       "    }\n",
       "</style>\n",
       "<table border=\"1\" class=\"dataframe\">\n",
       "  <thead>\n",
       "    <tr style=\"text-align: right;\">\n",
       "      <th></th>\n",
       "      <th>Round</th>\n",
       "      <th>Date</th>\n",
       "      <th>Home Team</th>\n",
       "      <th>Away Team</th>\n",
       "      <th>Home Score</th>\n",
       "      <th>Away Score</th>\n",
       "      <th>Total Goals</th>\n",
       "      <th>Result</th>\n",
       "    </tr>\n",
       "  </thead>\n",
       "  <tbody>\n",
       "    <tr>\n",
       "      <th>45</th>\n",
       "      <td>29</td>\n",
       "      <td>2024-03-17 00:00:00</td>\n",
       "      <td>Sevilla</td>\n",
       "      <td>Celta Vigo</td>\n",
       "      <td>1</td>\n",
       "      <td>2</td>\n",
       "      <td>3</td>\n",
       "      <td>Away</td>\n",
       "    </tr>\n",
       "    <tr>\n",
       "      <th>333</th>\n",
       "      <td>37</td>\n",
       "      <td>2024-05-19 00:00:00</td>\n",
       "      <td>Granada CF</td>\n",
       "      <td>Celta Vigo</td>\n",
       "      <td>1</td>\n",
       "      <td>2</td>\n",
       "      <td>3</td>\n",
       "      <td>Away</td>\n",
       "    </tr>\n",
       "  </tbody>\n",
       "</table>\n",
       "</div>"
      ],
      "text/plain": [
       "     Round                 Date   Home Team   Away Team Home Score Away Score  \\\n",
       "45      29  2024-03-17 00:00:00     Sevilla  Celta Vigo          1          2   \n",
       "333     37  2024-05-19 00:00:00  Granada CF  Celta Vigo          1          2   \n",
       "\n",
       "    Total Goals Result  \n",
       "45            3   Away  \n",
       "333           3   Away  "
      ]
     },
     "execution_count": 53,
     "metadata": {},
     "output_type": "execute_result"
    }
   ],
   "source": [
    "# Resultados de Giraldez como visitante:\n",
    "\n",
    "celta_victory_visiting_giraldez = df.loc[(df['Away Team']== \"Celta Vigo\") & (df.Result == 'Away') & (df.Round >= 29)]\n",
    "celta_victory_visiting_giraldez"
   ]
  },
  {
   "cell_type": "code",
   "execution_count": 54,
   "id": "f4969531-7ec8-451c-95c9-27fb4713f3bd",
   "metadata": {},
   "outputs": [
    {
     "data": {
      "text/html": [
       "<div>\n",
       "<style scoped>\n",
       "    .dataframe tbody tr th:only-of-type {\n",
       "        vertical-align: middle;\n",
       "    }\n",
       "\n",
       "    .dataframe tbody tr th {\n",
       "        vertical-align: top;\n",
       "    }\n",
       "\n",
       "    .dataframe thead th {\n",
       "        text-align: right;\n",
       "    }\n",
       "</style>\n",
       "<table border=\"1\" class=\"dataframe\">\n",
       "  <thead>\n",
       "    <tr style=\"text-align: right;\">\n",
       "      <th></th>\n",
       "      <th>Round</th>\n",
       "      <th>Date</th>\n",
       "      <th>Home Team</th>\n",
       "      <th>Away Team</th>\n",
       "      <th>Home Score</th>\n",
       "      <th>Away Score</th>\n",
       "      <th>Total Goals</th>\n",
       "      <th>Result</th>\n",
       "    </tr>\n",
       "  </thead>\n",
       "  <tbody>\n",
       "  </tbody>\n",
       "</table>\n",
       "</div>"
      ],
      "text/plain": [
       "Empty DataFrame\n",
       "Columns: [Round, Date, Home Team, Away Team, Home Score, Away Score, Total Goals, Result]\n",
       "Index: []"
      ]
     },
     "execution_count": 54,
     "metadata": {},
     "output_type": "execute_result"
    }
   ],
   "source": [
    "celta_tie_visiting_giraldez = df.loc[(df['Away Team']== \"Celta Vigo\") & (df.Result == 'Tie') & (df.Round >= 29)]\n",
    "celta_tie_visiting_giraldez"
   ]
  },
  {
   "cell_type": "code",
   "execution_count": 55,
   "id": "ce38992c-3899-4979-a143-dfce7e013884",
   "metadata": {},
   "outputs": [
    {
     "data": {
      "text/html": [
       "<div>\n",
       "<style scoped>\n",
       "    .dataframe tbody tr th:only-of-type {\n",
       "        vertical-align: middle;\n",
       "    }\n",
       "\n",
       "    .dataframe tbody tr th {\n",
       "        vertical-align: top;\n",
       "    }\n",
       "\n",
       "    .dataframe thead th {\n",
       "        text-align: right;\n",
       "    }\n",
       "</style>\n",
       "<table border=\"1\" class=\"dataframe\">\n",
       "  <thead>\n",
       "    <tr style=\"text-align: right;\">\n",
       "      <th></th>\n",
       "      <th>Round</th>\n",
       "      <th>Date</th>\n",
       "      <th>Home Team</th>\n",
       "      <th>Away Team</th>\n",
       "      <th>Home Score</th>\n",
       "      <th>Away Score</th>\n",
       "      <th>Total Goals</th>\n",
       "      <th>Result</th>\n",
       "    </tr>\n",
       "  </thead>\n",
       "  <tbody>\n",
       "    <tr>\n",
       "      <th>6</th>\n",
       "      <td>33</td>\n",
       "      <td>2024-04-27 00:00:00</td>\n",
       "      <td>Alaves</td>\n",
       "      <td>Celta Vigo</td>\n",
       "      <td>3</td>\n",
       "      <td>0</td>\n",
       "      <td>3</td>\n",
       "      <td>Home</td>\n",
       "    </tr>\n",
       "    <tr>\n",
       "      <th>29</th>\n",
       "      <td>31</td>\n",
       "      <td>2024-04-12 00:00:00</td>\n",
       "      <td>Betis</td>\n",
       "      <td>Celta Vigo</td>\n",
       "      <td>2</td>\n",
       "      <td>1</td>\n",
       "      <td>3</td>\n",
       "      <td>Home</td>\n",
       "    </tr>\n",
       "    <tr>\n",
       "      <th>331</th>\n",
       "      <td>35</td>\n",
       "      <td>2024-05-12 00:00:00</td>\n",
       "      <td>Atl. Madrid</td>\n",
       "      <td>Celta Vigo</td>\n",
       "      <td>1</td>\n",
       "      <td>0</td>\n",
       "      <td>1</td>\n",
       "      <td>Home</td>\n",
       "    </tr>\n",
       "  </tbody>\n",
       "</table>\n",
       "</div>"
      ],
      "text/plain": [
       "     Round                 Date    Home Team   Away Team Home Score  \\\n",
       "6       33  2024-04-27 00:00:00       Alaves  Celta Vigo          3   \n",
       "29      31  2024-04-12 00:00:00        Betis  Celta Vigo          2   \n",
       "331     35  2024-05-12 00:00:00  Atl. Madrid  Celta Vigo          1   \n",
       "\n",
       "    Away Score Total Goals Result  \n",
       "6            0           3   Home  \n",
       "29           1           3   Home  \n",
       "331          0           1   Home  "
      ]
     },
     "execution_count": 55,
     "metadata": {},
     "output_type": "execute_result"
    }
   ],
   "source": [
    "celta_away_visiting_giraldez = df.loc[(df['Away Team']== \"Celta Vigo\") & (df.Result == 'Home') & (df.Round >= 29)]\n",
    "celta_away_visiting_giraldez"
   ]
  },
  {
   "cell_type": "code",
   "execution_count": 56,
   "id": "67f94208-a18c-4943-b13c-c9a6fe0b6ad3",
   "metadata": {},
   "outputs": [
    {
     "name": "stdout",
     "output_type": "stream",
     "text": [
      "Total de victorias del Celta fuera de Balaidos con Giraldez:  2\n",
      "Total de derrotas del Celta fuera de Balaidos con Giraldez:  3\n",
      "Total de empates del Celta fuera de Balaidos con Giraldez:  0\n"
     ]
    }
   ],
   "source": [
    "# Calculamos el número de resultados del Celta como visitante con Giraldez:\n",
    "\n",
    "victory_visiting_giraldez = (celta_victory_visiting_giraldez['Result'] == 'Away').sum()\n",
    "away_visiting_giraldez = (celta_away_visiting_giraldez['Result'] == 'Home').sum()\n",
    "tie_visiting_giraldez = (celta_tie_visiting_giraldez['Result'] == 'Tie').sum()\n",
    "\n",
    "print(f'Total de victorias del Celta fuera de Balaidos con Giraldez: ', victory_visiting_giraldez)\n",
    "print(f'Total de derrotas del Celta fuera de Balaidos con Giraldez: ', away_visiting_giraldez)\n",
    "print(f'Total de empates del Celta fuera de Balaidos con Giraldez: ', tie_visiting_giraldez )"
   ]
  },
  {
   "cell_type": "code",
   "execution_count": 57,
   "id": "97b7ed11-461a-4e4b-88e6-ee1f85b9fdb7",
   "metadata": {},
   "outputs": [
    {
     "data": {
      "image/png": "[encoded data removed]",
      "text/plain": [
       "<Figure size 1000x600 with 1 Axes>"
      ]
     },
     "metadata": {},
     "output_type": "display_data"
    }
   ],
   "source": [
    "# Gráfico que representa el conjunto de resultados obtenidos por Giraldez como visitante:\n",
    "\n",
    "plt.figure(figsize=(10, 6))\n",
    "\n",
    "labels= ['Victorias fuera de Balaidos', 'Derrotas fuera de Balaidos', 'Empates fuera de Balaidos']\n",
    "sizes= [victory_visiting_giraldez, away_visiting_giraldez, tie_visiting_giraldez]\n",
    "explode = [0, 0.1, 0]\n",
    "\n",
    "plt.pie(sizes, labels= labels, autopct= '%1.1f%%', explode= explode)\n",
    "plt.title('Distribución de los resultados fuera de Balaidos con Giraldez')\n",
    "\n",
    "plt.show()"
   ]
  },
  {
   "cell_type": "code",
   "execution_count": 58,
   "id": "a705898c-8f5d-4fb6-b03a-8d773501ba43",
   "metadata": {},
   "outputs": [
    {
     "name": "stdout",
     "output_type": "stream",
     "text": [
      "Total puntos conseguidos fuera de Balaidos con Giraldez:  6\n"
     ]
    }
   ],
   "source": [
    "# Total de puntos conseguidos como visitante por Giraldez:\n",
    "\n",
    "points_Celta_team_visiting_giraldez = (celta_victory_visiting_giraldez['Result'] == 'Away').sum() *3 + (celta_tie_visiting_giraldez['Result'] == 'Tie').sum() *1\n",
    "print(f'Total puntos conseguidos fuera de Balaidos con Giraldez: ', points_Celta_team_visiting_giraldez )"
   ]
  },
  {
   "cell_type": "code",
   "execution_count": 59,
   "id": "c7dc3eb5-70e8-49b5-b45e-c7e98ebefbd7",
   "metadata": {},
   "outputs": [
    {
     "name": "stdout",
     "output_type": "stream",
     "text": [
      "Promedio de puntos como visitante por jornada del Celta de Giraldez:  1.20\n"
     ]
    }
   ],
   "source": [
    "# Promedio de puntos por jornada como visitante por Giraldez:\n",
    "\n",
    "num_matches_away_giraldez = df.loc [(df['Away Team'] == \"Celta Vigo\") & (df.Round >= 29)].shape[0]\n",
    "porcentage_points_away_giraldez = points_Celta_team_visiting_giraldez / num_matches_away_giraldez\n",
    "print(f'Promedio de puntos como visitante por jornada del Celta de Giraldez: {porcentage_points_away_giraldez: .2f}')"
   ]
  },
  {
   "cell_type": "code",
   "execution_count": 60,
   "id": "a7796441-4dbb-44d0-88d1-1efb8e06cfb0",
   "metadata": {},
   "outputs": [
    {
     "name": "stdout",
     "output_type": "stream",
     "text": [
      "Puntos totales del Celta de Vigo desde la jornada 29 con Giraldez: 17\n"
     ]
    }
   ],
   "source": [
    "# Total de puntos conseguidos por el Celta de Giraldez:\n",
    "\n",
    "total_points_celta_giraldez = points_Celta_team_visiting_giraldez.sum() + points_home_Balaidos_giraldez.sum()\n",
    "print(f'Puntos totales del Celta de Vigo desde la jornada 29 con Giraldez: {total_points_celta_giraldez}')"
   ]
  },
  {
   "cell_type": "code",
   "execution_count": 61,
   "id": "bb8784c2-8852-456f-b43d-fc7643816283",
   "metadata": {},
   "outputs": [
    {
     "name": "stdout",
     "output_type": "stream",
     "text": [
      "Promedio de puntos por jornada del Celta de Giráldez:  1.70\n"
     ]
    }
   ],
   "source": [
    "# Promedio de puntos por jornada del Celta de Giraldez:\n",
    "\n",
    "num_matches_giraldez = num_matches_away_giraldez + num_matches_home_giraldez\n",
    "porcentage_points_giraldez = total_points_celta_giraldez / num_matches_giraldez\n",
    "print(f'Promedio de puntos por jornada del Celta de Giráldez: {porcentage_points_giraldez: .2f}')"
   ]
  },
  {
   "cell_type": "code",
   "execution_count": 169,
   "id": "35895177-a4c3-4650-aaf3-f36317f46a0b",
   "metadata": {},
   "outputs": [
    {
     "data": {
      "image/png": "[encoded data removed]",
      "text/plain": [
       "<Figure size 1000x600 with 1 Axes>"
      ]
     },
     "metadata": {},
     "output_type": "display_data"
    }
   ],
   "source": [
    "# Gráfico de distribucción del total de los puntos en las 38 jornadas:\n",
    "\n",
    "plt.figure(figsize=(10, 6))\n",
    "\n",
    "labels= ['Porcentaje de puntos con Benitez en 28 jornadas', 'Porcentaje de puntos con giraldez en 10 jornadas']\n",
    "sizes= [total_points_celta_benitez,total_points_celta_giraldez ]\n",
    "explode = [0, 0.1]\n",
    "\n",
    "plt.pie(sizes, labels= labels, autopct= '%1.1f%%', explode= explode)\n",
    "plt.title('Distribución de los puntos durante toda la temporada')\n",
    "\n",
    "plt.show()"
   ]
  },
  {
   "cell_type": "code",
   "execution_count": 63,
   "id": "114a65f6-7e3b-44dc-9911-550d3403eaa2",
   "metadata": {},
   "outputs": [],
   "source": [
    "# Estadisticas de goles encajados, anotados y promedio por los números de partidos de cada entrenador:\n",
    "\n",
    "# Benitez:"
   ]
  },
  {
   "cell_type": "code",
   "execution_count": 64,
   "id": "cfa9462b-4125-4c1f-be28-a4245de6f43f",
   "metadata": {},
   "outputs": [
    {
     "name": "stdout",
     "output_type": "stream",
     "text": [
      "Goles marcados por el Celta en casa con Benítez:  10\n"
     ]
    }
   ],
   "source": [
    "# Goles marcados como local:\n",
    "\n",
    "goals_home_benitez = df.loc[(df['Home Team'] == \"Celta Vigo\") & (df['Round'] < 29),'Home Score'].sum()\n",
    "print(f'Goles marcados por el Celta en casa con Benítez: ',goals_home_benitez)"
   ]
  },
  {
   "cell_type": "code",
   "execution_count": 65,
   "id": "a7a49047-80da-4887-8440-9dfefd0b24f7",
   "metadata": {},
   "outputs": [
    {
     "name": "stdout",
     "output_type": "stream",
     "text": [
      "Goles marcados por el Celta fuera de casa con Benítez:  20\n"
     ]
    }
   ],
   "source": [
    "# Goles marcados como visitante:\n",
    "\n",
    "goals_away_benitez = df.loc[(df['Away Team'] == \"Celta Vigo\") & (df['Round'] < 29),'Away Score'].sum()\n",
    "print(f'Goles marcados por el Celta fuera de casa con Benítez: ', goals_away_benitez)"
   ]
  },
  {
   "cell_type": "code",
   "execution_count": 66,
   "id": "a1c25fa5-1a17-4dec-b18b-c78581760d94",
   "metadata": {},
   "outputs": [
    {
     "name": "stdout",
     "output_type": "stream",
     "text": [
      "Goles totales marcados por el Celta de Benítez:  30\n"
     ]
    }
   ],
   "source": [
    "# Total de goles marcados:\n",
    "\n",
    "total_goals_benitez = goals_home_benitez + goals_away_benitez\n",
    "print(f'Goles totales marcados por el Celta de Benítez: ',total_goals_benitez)"
   ]
  },
  {
   "cell_type": "code",
   "execution_count": 171,
   "id": "3d001021-726b-4d76-94de-e5b412787745",
   "metadata": {},
   "outputs": [
    {
     "name": "stdout",
     "output_type": "stream",
     "text": [
      "Promedio de goles marcados por jornada del Celta de Benitez:  1.07\n"
     ]
    }
   ],
   "source": [
    "# Promedio de goles marcados por jornada:\n",
    "\n",
    "porcentage_goals_benitez = total_goals_benitez / num_matches_benitez\n",
    "print(f'Promedio de goles marcados por jornada del Celta de Benitez: {porcentage_goals_benitez: .2f}')"
   ]
  },
  {
   "cell_type": "code",
   "execution_count": 173,
   "id": "d75c8da3-1733-407d-ace8-52f8d059e5b6",
   "metadata": {},
   "outputs": [
    {
     "name": "stdout",
     "output_type": "stream",
     "text": [
      "Goles encajados por el Celta en Balaidos con Benítez:  17\n"
     ]
    }
   ],
   "source": [
    "# Goles encajados como local:\n",
    "\n",
    "goals_home_embedded_benitez = df.loc[(df['Home Team'] == \"Celta Vigo\") & (df['Round'] < 29),'Away Score'].sum()\n",
    "print(f'Goles encajados por el Celta en Balaidos con Benítez: ',goals_home_embedded_benitez)"
   ]
  },
  {
   "cell_type": "code",
   "execution_count": 175,
   "id": "808af84e-b7a8-4e25-ac3c-9eda35d15917",
   "metadata": {},
   "outputs": [
    {
     "name": "stdout",
     "output_type": "stream",
     "text": [
      "Goles encajados por el Celta como visitante con Benítez:  26\n"
     ]
    }
   ],
   "source": [
    "# Goles encajados como visitante:\n",
    "\n",
    "goals_away_embedded_benitez = df.loc[(df['Away Team'] == \"Celta Vigo\") & (df['Round'] < 29),'Home Score'].sum()\n",
    "print(f'Goles encajados por el Celta como visitante con Benítez: ',goals_away_embedded_benitez)"
   ]
  },
  {
   "cell_type": "code",
   "execution_count": 70,
   "id": "79b20c94-da05-4f36-b835-6fe3461394f4",
   "metadata": {},
   "outputs": [
    {
     "name": "stdout",
     "output_type": "stream",
     "text": [
      "Goles totales encajados por el Celta de Benítez:  43\n"
     ]
    }
   ],
   "source": [
    "# Total de goles encajados:\n",
    "\n",
    "total_goals_embedded_benitez = goals_home_embedded_benitez + goals_away_embedded_benitez\n",
    "print(f'Goles totales encajados por el Celta de Benítez: ',total_goals_embedded_benitez)"
   ]
  },
  {
   "cell_type": "code",
   "execution_count": 177,
   "id": "cccb6eae-c23a-487b-aa2f-9e90cc033cc2",
   "metadata": {},
   "outputs": [
    {
     "name": "stdout",
     "output_type": "stream",
     "text": [
      "Promedio de goles encajados por jornada del Celta de Benitez:  1.54\n"
     ]
    }
   ],
   "source": [
    "# Promedio de goles encajados por jornada:\n",
    "\n",
    "porcentage_goals_embedded_benitez = total_goals_embedded_benitez / num_matches_benitez\n",
    "print(f'Promedio de goles encajados por jornada del Celta de Benitez: {porcentage_goals_embedded_benitez: .2f}')"
   ]
  },
  {
   "cell_type": "code",
   "execution_count": 72,
   "id": "d96d124e-b402-461d-8a1c-f7ae4024d6d0",
   "metadata": {},
   "outputs": [],
   "source": [
    "# Giraldez:"
   ]
  },
  {
   "cell_type": "code",
   "execution_count": 179,
   "id": "2dd7a4f8-36dc-42d6-8632-b9c761aadb57",
   "metadata": {},
   "outputs": [
    {
     "name": "stdout",
     "output_type": "stream",
     "text": [
      "Goles marcados por el Celta en Balaidos con Giraldez:  11\n"
     ]
    }
   ],
   "source": [
    "# Goles marcados como local:\n",
    "\n",
    "df['Home Score'] = pd.to_numeric(df['Home Score'], errors='coerce').fillna(0)\n",
    "goals_home_giraldez = df.loc[(df['Home Team'] == \"Celta Vigo\") & (df['Round'] >= 29),'Home Score'].sum()\n",
    "print(f'Goles marcados por el Celta en Balaidos con Giraldez: ',goals_home_giraldez)"
   ]
  },
  {
   "cell_type": "code",
   "execution_count": 181,
   "id": "c0a67107-d810-4b66-8ab2-b26c5e9a9a53",
   "metadata": {},
   "outputs": [
    {
     "name": "stdout",
     "output_type": "stream",
     "text": [
      "Goles marcados por el Celta como visitante con Giraldez:  5\n"
     ]
    }
   ],
   "source": [
    "# Goles marcados como visitante:\n",
    "\n",
    "df['Away Score'] = pd.to_numeric(df['Away Score'], errors='coerce').fillna(0)\n",
    "goals_away_giraldez = df.loc[(df['Away Team'] == \"Celta Vigo\") & (df['Round'] >= 29),'Away Score'].sum()\n",
    "print(f'Goles marcados por el Celta como visitante con Giraldez: ', goals_away_giraldez)"
   ]
  },
  {
   "cell_type": "code",
   "execution_count": 75,
   "id": "85fd9843-1b5c-4dfc-a575-d58a2dca7f22",
   "metadata": {},
   "outputs": [
    {
     "name": "stdout",
     "output_type": "stream",
     "text": [
      "Goles totales marcados por el Celta de Giraldez:  16\n"
     ]
    }
   ],
   "source": [
    "# Total de goles marcados:\n",
    "\n",
    "total_goals_giraldez = goals_home_giraldez + goals_away_giraldez\n",
    "print(f'Goles totales marcados por el Celta de Giraldez: ',total_goals_giraldez)"
   ]
  },
  {
   "cell_type": "code",
   "execution_count": 183,
   "id": "2b420c42-b38d-4b3e-a395-07b17c243594",
   "metadata": {},
   "outputs": [
    {
     "name": "stdout",
     "output_type": "stream",
     "text": [
      "Promedio de goles marcados por jornada del Celta de Giráldez:  1.60\n"
     ]
    }
   ],
   "source": [
    "# Promedio de goles marcados por jornada:\n",
    "\n",
    "porcentage_goals_giraldez = total_goals_giraldez / num_matches_giraldez\n",
    "print(f'Promedio de goles marcados por jornada del Celta de Giráldez: {porcentage_goals_giraldez: .2f}')"
   ]
  },
  {
   "cell_type": "code",
   "execution_count": 185,
   "id": "bfeefadd-81f3-4c54-a7b6-ecb3991f1747",
   "metadata": {},
   "outputs": [
    {
     "name": "stdout",
     "output_type": "stream",
     "text": [
      "Goles encajados por el Celta en Balaidos con Giraldez:  6\n"
     ]
    }
   ],
   "source": [
    "# Goles encajados como local:\n",
    "\n",
    "goals_home_embedded_giraldez = df.loc[(df['Home Team'] == \"Celta Vigo\") & (df['Round'] >= 29),'Away Score'].sum()\n",
    "print(f'Goles encajados por el Celta en Balaidos con Giraldez: ',goals_home_embedded_giraldez)"
   ]
  },
  {
   "cell_type": "code",
   "execution_count": 187,
   "id": "3ba8a89a-e950-4a49-b57b-8fdd0870911c",
   "metadata": {},
   "outputs": [
    {
     "name": "stdout",
     "output_type": "stream",
     "text": [
      "Goles encajados por el Celta como visitante con Giradez:  8\n"
     ]
    }
   ],
   "source": [
    "# Goles encajados como visitante:\n",
    "\n",
    "goals_away_embedded_giraldez = df.loc[(df['Away Team'] == \"Celta Vigo\") & (df['Round'] >=29),'Home Score'].sum()\n",
    "print(f'Goles encajados por el Celta como visitante con Giradez: ',goals_away_embedded_giraldez)"
   ]
  },
  {
   "cell_type": "code",
   "execution_count": 79,
   "id": "ce41db59-a843-4e04-b56d-5d88c39f6ffd",
   "metadata": {},
   "outputs": [
    {
     "name": "stdout",
     "output_type": "stream",
     "text": [
      "Goles totales encajados por el Celta de Giraldez:  14\n"
     ]
    }
   ],
   "source": [
    "# Total de goles encajados:\n",
    "\n",
    "total_goals_embedded_giraldez = goals_home_embedded_giraldez + goals_away_embedded_giraldez\n",
    "print(f'Goles totales encajados por el Celta de Giraldez: ',total_goals_embedded_giraldez)"
   ]
  },
  {
   "cell_type": "code",
   "execution_count": 189,
   "id": "7534c0a7-4405-4c35-9a0b-e170d728da2f",
   "metadata": {},
   "outputs": [
    {
     "name": "stdout",
     "output_type": "stream",
     "text": [
      "Promedio de goles encajados por jornada del Celta de Giráldez:  1.40\n"
     ]
    }
   ],
   "source": [
    "# Promedio de goles encajados por jornada:\n",
    "\n",
    "porcentage_goals_embedded_giraldez = total_goals_embedded_giraldez / num_matches_giraldez\n",
    "print(f'Promedio de goles encajados por jornada del Celta de Giráldez: {porcentage_goals_embedded_giraldez: .2f}')"
   ]
  },
  {
   "cell_type": "code",
   "execution_count": 190,
   "id": "f805ef20-926d-4927-a54c-33f56220b480",
   "metadata": {},
   "outputs": [
    {
     "data": {
      "image/png": "[encoded data removed]",
      "text/plain": [
       "<Figure size 1000x600 with 1 Axes>"
      ]
     },
     "metadata": {},
     "output_type": "display_data"
    }
   ],
   "source": [
    "# Gráfico de barras que representa la diferencia ente goles encajados y marcados entre ambos entrenadores:\n",
    "\n",
    "plt.figure(figsize=(10,6))\n",
    "\n",
    "# Datos en orden Benítez - Giráldez\n",
    "goals_scored = [total_goals_benitez, total_goals_giraldez]\n",
    "goals_conceded = [total_goals_embedded_benitez, total_goals_embedded_giraldez]\n",
    "\n",
    "x = np.arange(len(goals_scored))  # [0, 1]\n",
    "width = 0.35\n",
    "\n",
    "b1 = plt.bar(x - width/2, goals_scored, width=width, color=\"#A4E0BE\", edgecolor=\"black\", label=\"Goles marcados\")\n",
    "g1 = plt.bar(x + width/2, goals_conceded, width=width, color=\"#F4433B\", edgecolor=\"black\", label=\"Goles encajados\")\n",
    "\n",
    "# Etiquetas y estilo\n",
    "plt.xticks(x, ['Benítez', 'Giráldez'])\n",
    "plt.yticks(range(0, max(goals_scored + goals_conceded) + 10, 10))\n",
    "plt.legend()\n",
    "plt.title('Diferencia de goles marcados / encajados de ambos entrenadores')\n",
    "\n",
    "plt.show()\n"
   ]
  },
  {
   "cell_type": "code",
   "execution_count": null,
   "id": "6842d7b2-0820-4633-aee1-d508c1cc7618",
   "metadata": {},
   "outputs": [],
   "source": []
  }
 ],
 "metadata": {
  "kernelspec": {
   "display_name": "Python [conda env:base] *",
   "language": "python",
   "name": "conda-base-py"
  },
  "language_info": {
   "codemirror_mode": {
    "name": "ipython",
    "version": 3
   },
   "file_extension": ".py",
   "mimetype": "text/x-python",
   "name": "python",
   "nbconvert_exporter": "python",
   "pygments_lexer": "ipython3",
   "version": "3.11.6"
  }
 },
 "nbformat": 4,
 "nbformat_minor": 5
}
